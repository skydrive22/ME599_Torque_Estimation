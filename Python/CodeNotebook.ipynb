{
 "cells": [
  {
   "attachments": {},
   "cell_type": "markdown",
   "metadata": {},
   "source": [
    "First we must import numpy and SINDy"
   ]
  },
  {
   "cell_type": "code",
   "execution_count": 10,
   "metadata": {},
   "outputs": [
    {
     "data": {
      "text/html": [
       "<div>\n",
       "<style scoped>\n",
       "    .dataframe tbody tr th:only-of-type {\n",
       "        vertical-align: middle;\n",
       "    }\n",
       "\n",
       "    .dataframe tbody tr th {\n",
       "        vertical-align: top;\n",
       "    }\n",
       "\n",
       "    .dataframe thead th {\n",
       "        text-align: right;\n",
       "    }\n",
       "</style>\n",
       "<table border=\"1\" class=\"dataframe\">\n",
       "  <thead>\n",
       "    <tr style=\"text-align: right;\">\n",
       "      <th></th>\n",
       "      <th>timeInS</th>\n",
       "      <th>i_aInA</th>\n",
       "      <th>i_bInA</th>\n",
       "      <th>i_cInA</th>\n",
       "      <th>u_aInV</th>\n",
       "      <th>u_bInV</th>\n",
       "      <th>u_cInV</th>\n",
       "      <th>epsilon_elInRad</th>\n",
       "    </tr>\n",
       "  </thead>\n",
       "  <tbody>\n",
       "    <tr>\n",
       "      <th>0</th>\n",
       "      <td>0.000000</td>\n",
       "      <td>1.765625</td>\n",
       "      <td>3.453125</td>\n",
       "      <td>0.937500</td>\n",
       "      <td>-0.322917</td>\n",
       "      <td>-0.677083</td>\n",
       "      <td>1.000000</td>\n",
       "      <td>-2.403804</td>\n",
       "    </tr>\n",
       "    <tr>\n",
       "      <th>1</th>\n",
       "      <td>0.000001</td>\n",
       "      <td>1.578125</td>\n",
       "      <td>3.421875</td>\n",
       "      <td>0.859375</td>\n",
       "      <td>-0.177083</td>\n",
       "      <td>-0.750000</td>\n",
       "      <td>0.927083</td>\n",
       "      <td>-2.403765</td>\n",
       "    </tr>\n",
       "    <tr>\n",
       "      <th>2</th>\n",
       "      <td>0.000002</td>\n",
       "      <td>1.578125</td>\n",
       "      <td>3.562500</td>\n",
       "      <td>0.750000</td>\n",
       "      <td>-0.114583</td>\n",
       "      <td>-0.854167</td>\n",
       "      <td>0.968750</td>\n",
       "      <td>-2.403726</td>\n",
       "    </tr>\n",
       "    <tr>\n",
       "      <th>3</th>\n",
       "      <td>0.000003</td>\n",
       "      <td>1.765625</td>\n",
       "      <td>3.671875</td>\n",
       "      <td>0.640625</td>\n",
       "      <td>-0.104167</td>\n",
       "      <td>-0.822917</td>\n",
       "      <td>0.927083</td>\n",
       "      <td>-2.403687</td>\n",
       "    </tr>\n",
       "    <tr>\n",
       "      <th>4</th>\n",
       "      <td>0.000004</td>\n",
       "      <td>1.656250</td>\n",
       "      <td>3.671875</td>\n",
       "      <td>0.609375</td>\n",
       "      <td>-0.125000</td>\n",
       "      <td>-0.802083</td>\n",
       "      <td>0.927083</td>\n",
       "      <td>-2.403648</td>\n",
       "    </tr>\n",
       "  </tbody>\n",
       "</table>\n",
       "</div>"
      ],
      "text/plain": [
       "    timeInS    i_aInA    i_bInA    i_cInA    u_aInV    u_bInV    u_cInV  \\\n",
       "0  0.000000  1.765625  3.453125  0.937500 -0.322917 -0.677083  1.000000   \n",
       "1  0.000001  1.578125  3.421875  0.859375 -0.177083 -0.750000  0.927083   \n",
       "2  0.000002  1.578125  3.562500  0.750000 -0.114583 -0.854167  0.968750   \n",
       "3  0.000003  1.765625  3.671875  0.640625 -0.104167 -0.822917  0.927083   \n",
       "4  0.000004  1.656250  3.671875  0.609375 -0.125000 -0.802083  0.927083   \n",
       "\n",
       "   epsilon_elInRad  \n",
       "0        -2.403804  \n",
       "1        -2.403765  \n",
       "2        -2.403726  \n",
       "3        -2.403687  \n",
       "4        -2.403648  "
      ]
     },
     "execution_count": 10,
     "metadata": {},
     "output_type": "execute_result"
    }
   ],
   "source": [
    "import numpy as np\n",
    "import pandas as pd\n",
    "from pysindy import SINDy\n",
    "from pysindy.feature_library import WeakPDELibrary\n",
    "# from pysindy.differentiation import sindy_derivative\n",
    "# from pysindy.optimizers import sindy_optimizer\n",
    "\n",
    "data = pd.read_csv('../ReducedTorqueData.csv')\n",
    "data.head()"
   ]
  },
  {
   "cell_type": "code",
   "execution_count": 26,
   "metadata": {},
   "outputs": [
    {
     "data": {
      "text/plain": [
       "array([[ 1.765625 ,  3.453125 ,  0.9375   , ..., -0.6770833,  1.       ,\n",
       "        -2.403804 ],\n",
       "       [ 1.578125 ,  3.421875 ,  0.859375 , ..., -0.75     ,  0.9270833,\n",
       "        -2.403765 ],\n",
       "       [ 1.578125 ,  3.5625   ,  0.75     , ..., -0.8541667,  0.96875  ,\n",
       "        -2.403726 ],\n",
       "       ...,\n",
       "       [ 1.046875 ,  3.953125 ,  0.5625   , ..., -1.135417 ,  1.333333 ,\n",
       "        -2.4036   ],\n",
       "       [ 1.125    ,  3.765625 ,  0.609375 , ..., -1.229167 ,  1.510417 ,\n",
       "        -2.403561 ],\n",
       "       [ 1.125    ,  3.484375 ,  0.484375 , ..., -1.333333 ,  1.53125  ,\n",
       "        -2.403522 ]])"
      ]
     },
     "execution_count": 26,
     "metadata": {},
     "output_type": "execute_result"
    }
   ],
   "source": [
    "# Define State Vectors\n",
    "t = data['timeInS']\n",
    "X = data[data.columns[1:]].to_numpy()\n",
    "X"
   ]
  },
  {
   "cell_type": "code",
   "execution_count": 25,
   "metadata": {},
   "outputs": [
    {
     "ename": "TypeError",
     "evalue": "correct_shape() missing 1 required positional argument: 'x'",
     "output_type": "error",
     "traceback": [
      "\u001b[0;31m---------------------------------------------------------------------------\u001b[0m",
      "\u001b[0;31mTypeError\u001b[0m                                 Traceback (most recent call last)",
      "Cell \u001b[0;32mIn[25], line 5\u001b[0m\n\u001b[1;32m      1\u001b[0m \u001b[39m# Instantiate model\u001b[39;00m\n\u001b[1;32m      2\u001b[0m model \u001b[39m=\u001b[39m SINDy(feature_library\u001b[39m=\u001b[39mWeakPDELibrary,       \u001b[39m# if None, defaults to PolynomialLibrary\u001b[39;00m\n\u001b[1;32m      3\u001b[0m               differentiation_method\u001b[39m=\u001b[39m\u001b[39mNone\u001b[39;00m)          \u001b[39m# if None, defaults to FiniteDifference\u001b[39;00m\n\u001b[0;32m----> 5\u001b[0m model\u001b[39m.\u001b[39;49mfit(X, t)\n",
      "File \u001b[0;32m~/miniconda3/lib/python3.9/site-packages/pysindy/pysindy.py:325\u001b[0m, in \u001b[0;36mSINDy.fit\u001b[0;34m(self, x, t, x_dot, u, multiple_trajectories, unbias, quiet, ensemble, library_ensemble, replace, n_candidates_to_drop, n_subset, n_models, ensemble_aggregator)\u001b[0m\n\u001b[1;32m    316\u001b[0m \u001b[39melif\u001b[39;00m (\n\u001b[1;32m    317\u001b[0m     \u001b[39mnot\u001b[39;00m \u001b[39misinstance\u001b[39m(x, Sequence)\n\u001b[1;32m    318\u001b[0m     \u001b[39mor\u001b[39;00m (\u001b[39mnot\u001b[39;00m \u001b[39misinstance\u001b[39m(x_dot, Sequence) \u001b[39mand\u001b[39;00m x_dot \u001b[39mis\u001b[39;00m \u001b[39mnot\u001b[39;00m \u001b[39mNone\u001b[39;00m)\n\u001b[1;32m    319\u001b[0m     \u001b[39mor\u001b[39;00m (\u001b[39mnot\u001b[39;00m \u001b[39misinstance\u001b[39m(u, Sequence) \u001b[39mand\u001b[39;00m u \u001b[39mis\u001b[39;00m \u001b[39mnot\u001b[39;00m \u001b[39mNone\u001b[39;00m)\n\u001b[1;32m    320\u001b[0m ):\n\u001b[1;32m    321\u001b[0m     \u001b[39mraise\u001b[39;00m \u001b[39mTypeError\u001b[39;00m(\n\u001b[1;32m    322\u001b[0m         \u001b[39m\"\u001b[39m\u001b[39mIf multiple trajectories set, x and if included,\u001b[39m\u001b[39m\"\u001b[39m\n\u001b[1;32m    323\u001b[0m         \u001b[39m\"\u001b[39m\u001b[39mx_dot and u, must be Sequences\u001b[39m\u001b[39m\"\u001b[39m\n\u001b[1;32m    324\u001b[0m     )\n\u001b[0;32m--> 325\u001b[0m x, x_dot, u \u001b[39m=\u001b[39m _comprehend_and_validate_inputs(\n\u001b[1;32m    326\u001b[0m     x, t, x_dot, u, \u001b[39mself\u001b[39;49m\u001b[39m.\u001b[39;49mfeature_library\n\u001b[1;32m    327\u001b[0m )\n\u001b[1;32m    329\u001b[0m \u001b[39mif\u001b[39;00m (n_models \u001b[39mis\u001b[39;00m \u001b[39mnot\u001b[39;00m \u001b[39mNone\u001b[39;00m) \u001b[39mand\u001b[39;00m n_models \u001b[39m<\u001b[39m\u001b[39m=\u001b[39m \u001b[39m0\u001b[39m:\n\u001b[1;32m    330\u001b[0m     \u001b[39mraise\u001b[39;00m \u001b[39mValueError\u001b[39;00m(\u001b[39m\"\u001b[39m\u001b[39mn_models must be a positive integer\u001b[39m\u001b[39m\"\u001b[39m)\n",
      "File \u001b[0;32m~/miniconda3/lib/python3.9/site-packages/pysindy/pysindy.py:956\u001b[0m, in \u001b[0;36m_comprehend_and_validate_inputs\u001b[0;34m(x, t, x_dot, u, feature_library)\u001b[0m\n\u001b[1;32m    953\u001b[0m     arr \u001b[39m=\u001b[39m feature_library\u001b[39m.\u001b[39mcorrect_shape(arr)\n\u001b[1;32m    954\u001b[0m     \u001b[39mreturn\u001b[39;00m validate_no_reshape(arr, t)\n\u001b[0;32m--> 956\u001b[0m x \u001b[39m=\u001b[39m [comprehend_and_validate(xi, ti) \u001b[39mfor\u001b[39;00m xi, ti \u001b[39min\u001b[39;00m _zip_like_sequence(x, t)]\n\u001b[1;32m    957\u001b[0m \u001b[39mif\u001b[39;00m x_dot \u001b[39mis\u001b[39;00m \u001b[39mnot\u001b[39;00m \u001b[39mNone\u001b[39;00m:\n\u001b[1;32m    958\u001b[0m     x_dot \u001b[39m=\u001b[39m [\n\u001b[1;32m    959\u001b[0m         comprehend_and_validate(xdoti, ti)\n\u001b[1;32m    960\u001b[0m         \u001b[39mfor\u001b[39;00m xdoti, ti \u001b[39min\u001b[39;00m _zip_like_sequence(x_dot, t)\n\u001b[1;32m    961\u001b[0m     ]\n",
      "File \u001b[0;32m~/miniconda3/lib/python3.9/site-packages/pysindy/pysindy.py:956\u001b[0m, in \u001b[0;36m<listcomp>\u001b[0;34m(.0)\u001b[0m\n\u001b[1;32m    953\u001b[0m     arr \u001b[39m=\u001b[39m feature_library\u001b[39m.\u001b[39mcorrect_shape(arr)\n\u001b[1;32m    954\u001b[0m     \u001b[39mreturn\u001b[39;00m validate_no_reshape(arr, t)\n\u001b[0;32m--> 956\u001b[0m x \u001b[39m=\u001b[39m [comprehend_and_validate(xi, ti) \u001b[39mfor\u001b[39;00m xi, ti \u001b[39min\u001b[39;00m _zip_like_sequence(x, t)]\n\u001b[1;32m    957\u001b[0m \u001b[39mif\u001b[39;00m x_dot \u001b[39mis\u001b[39;00m \u001b[39mnot\u001b[39;00m \u001b[39mNone\u001b[39;00m:\n\u001b[1;32m    958\u001b[0m     x_dot \u001b[39m=\u001b[39m [\n\u001b[1;32m    959\u001b[0m         comprehend_and_validate(xdoti, ti)\n\u001b[1;32m    960\u001b[0m         \u001b[39mfor\u001b[39;00m xdoti, ti \u001b[39min\u001b[39;00m _zip_like_sequence(x_dot, t)\n\u001b[1;32m    961\u001b[0m     ]\n",
      "File \u001b[0;32m~/miniconda3/lib/python3.9/site-packages/pysindy/pysindy.py:953\u001b[0m, in \u001b[0;36m_comprehend_and_validate_inputs.<locals>.comprehend_and_validate\u001b[0;34m(arr, t)\u001b[0m\n\u001b[1;32m    951\u001b[0m \u001b[39mdef\u001b[39;00m \u001b[39mcomprehend_and_validate\u001b[39m(arr, t):\n\u001b[1;32m    952\u001b[0m     arr \u001b[39m=\u001b[39m AxesArray(arr, comprehend_axes(arr))\n\u001b[0;32m--> 953\u001b[0m     arr \u001b[39m=\u001b[39m feature_library\u001b[39m.\u001b[39;49mcorrect_shape(arr)\n\u001b[1;32m    954\u001b[0m     \u001b[39mreturn\u001b[39;00m validate_no_reshape(arr, t)\n",
      "\u001b[0;31mTypeError\u001b[0m: correct_shape() missing 1 required positional argument: 'x'"
     ]
    }
   ],
   "source": [
    "# Instantiate model\n",
    "model = SINDy(feature_library=WeakPDELibrary,       # if None, defaults to PolynomialLibrary\n",
    "              differentiation_method=None)          # if None, defaults to FiniteDifference\n",
    "\n",
    "model.fit(X, t)\n"
   ]
  }
 ],
 "metadata": {
  "kernelspec": {
   "display_name": "base",
   "language": "python",
   "name": "python3"
  },
  "language_info": {
   "codemirror_mode": {
    "name": "ipython",
    "version": 3
   },
   "file_extension": ".py",
   "mimetype": "text/x-python",
   "name": "python",
   "nbconvert_exporter": "python",
   "pygments_lexer": "ipython3",
   "version": "3.9.12"
  },
  "orig_nbformat": 4
 },
 "nbformat": 4,
 "nbformat_minor": 2
}
