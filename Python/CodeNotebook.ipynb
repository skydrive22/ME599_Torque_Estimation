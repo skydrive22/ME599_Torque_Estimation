{
 "cells": [
  {
   "attachments": {},
   "cell_type": "markdown",
   "metadata": {},
   "source": [
    "First we must import numpy and SINDy"
   ]
  },
  {
   "cell_type": "code",
   "execution_count": 2,
   "metadata": {},
   "outputs": [
    {
     "data": {
      "text/html": [
       "<div>\n",
       "<style scoped>\n",
       "    .dataframe tbody tr th:only-of-type {\n",
       "        vertical-align: middle;\n",
       "    }\n",
       "\n",
       "    .dataframe tbody tr th {\n",
       "        vertical-align: top;\n",
       "    }\n",
       "\n",
       "    .dataframe thead th {\n",
       "        text-align: right;\n",
       "    }\n",
       "</style>\n",
       "<table border=\"1\" class=\"dataframe\">\n",
       "  <thead>\n",
       "    <tr style=\"text-align: right;\">\n",
       "      <th></th>\n",
       "      <th>timeInS</th>\n",
       "      <th>i_aInA</th>\n",
       "      <th>i_bInA</th>\n",
       "      <th>i_cInA</th>\n",
       "      <th>u_aInV</th>\n",
       "      <th>u_bInV</th>\n",
       "      <th>u_cInV</th>\n",
       "      <th>epsilon_elInRad</th>\n",
       "    </tr>\n",
       "  </thead>\n",
       "  <tbody>\n",
       "    <tr>\n",
       "      <th>0</th>\n",
       "      <td>0.000000</td>\n",
       "      <td>1.765625</td>\n",
       "      <td>3.453125</td>\n",
       "      <td>0.937500</td>\n",
       "      <td>-0.322917</td>\n",
       "      <td>-0.677083</td>\n",
       "      <td>1.000000</td>\n",
       "      <td>-2.403804</td>\n",
       "    </tr>\n",
       "    <tr>\n",
       "      <th>1</th>\n",
       "      <td>0.000001</td>\n",
       "      <td>1.578125</td>\n",
       "      <td>3.421875</td>\n",
       "      <td>0.859375</td>\n",
       "      <td>-0.177083</td>\n",
       "      <td>-0.750000</td>\n",
       "      <td>0.927083</td>\n",
       "      <td>-2.403765</td>\n",
       "    </tr>\n",
       "    <tr>\n",
       "      <th>2</th>\n",
       "      <td>0.000002</td>\n",
       "      <td>1.578125</td>\n",
       "      <td>3.562500</td>\n",
       "      <td>0.750000</td>\n",
       "      <td>-0.114583</td>\n",
       "      <td>-0.854167</td>\n",
       "      <td>0.968750</td>\n",
       "      <td>-2.403726</td>\n",
       "    </tr>\n",
       "  </tbody>\n",
       "</table>\n",
       "</div>"
      ],
      "text/plain": [
       "    timeInS    i_aInA    i_bInA    i_cInA    u_aInV    u_bInV    u_cInV  \\\n",
       "0  0.000000  1.765625  3.453125  0.937500 -0.322917 -0.677083  1.000000   \n",
       "1  0.000001  1.578125  3.421875  0.859375 -0.177083 -0.750000  0.927083   \n",
       "2  0.000002  1.578125  3.562500  0.750000 -0.114583 -0.854167  0.968750   \n",
       "\n",
       "   epsilon_elInRad  \n",
       "0        -2.403804  \n",
       "1        -2.403765  \n",
       "2        -2.403726  "
      ]
     },
     "execution_count": 2,
     "metadata": {},
     "output_type": "execute_result"
    }
   ],
   "source": [
    "import matplotlib.pyplot as plt\n",
    "import numpy as np\n",
    "import pandas as pd\n",
    "from pysindy import SINDy\n",
    "from pysindy.feature_library import *\n",
    "from pysindy.differentiation import *\n",
    "# from pysindy.optimizers import *\n",
    "from scipy.integrate import odeint, solve_ivp\n",
    "\n",
    "file = '../ReducedTorqueData.csv'\n",
    "data = np.loadtxt(file, delimiter=',', skiprows=1, max_rows=100000)\n",
    "pd.read_csv(file, nrows=3)"
   ]
  },
  {
   "cell_type": "code",
   "execution_count": 3,
   "metadata": {},
   "outputs": [],
   "source": [
    "# Given Parameters\n",
    "n_me = 16.67    # Hz\n",
    "U_DC = 294      # Volts DC\n",
    "Rs = 18e-3      # Ohms\n",
    "Ld = 370e-6     # Henry\n",
    "Lq = 1200e-6    # Henry\n",
    "psi_p = 66e-3   # Vs\n",
    "i_dqmax = 240   # Amps\n",
    "p = 3           # pole pair number"
   ]
  },
  {
   "cell_type": "code",
   "execution_count": 4,
   "metadata": {},
   "outputs": [],
   "source": [
    "# Calculate Torque from variables\n",
    "t = data[:, 0]\n",
    "i_abc = data[:, 1:4]\n",
    "u_abc = data[:, 4:7]\n",
    "e = data[:, 7]\n",
    "\n",
    "i_dq = np.zeros((len(data), 2))\n",
    "u_dq = np.zeros((len(data), 2))\n",
    "for i in range(len(data)):\n",
    "    trig = np.array([[np.cos(e[i]), -np.cos(e[i] + np.pi/3), -np.cos(e[i] - np.pi/3)],\n",
    "                    [-np.sin(e[i]), np.sin(e[i] + np.pi/3), np.sin(e[i] - np.pi/3)]])\n",
    "    i_dq[i] = np.matmul(trig, i_abc[i])\n",
    "    u_dq[i] = np.matmul(trig, u_abc[i])"
   ]
  },
  {
   "cell_type": "code",
   "execution_count": 5,
   "metadata": {},
   "outputs": [],
   "source": [
    "psi_d = Ld*i_dq[:, 0] + psi_p\n",
    "psi_q = Lq*i_dq[:, 1]\n",
    "T = 1.5*p*(psi_d*i_dq[:, 1] - psi_q*i_dq[:, 0])\n",
    "\n",
    "X = np.column_stack((T, i_dq, u_dq, np.sin(e), np.cos(e)))"
   ]
  },
  {
   "cell_type": "code",
   "execution_count": 17,
   "metadata": {},
   "outputs": [
    {
     "name": "stdout",
     "output_type": "stream",
     "text": [
      "(T)' = 647755206931.213 1 + 270.310 T + 4589.295 i_d + 1418.386 i_q + -2217.247 u_d + -2295.267 u_q + -9082.247 sin(e) + 20002.100 cos(e) + -16690.387 T^2 + 1819.455 T i_d + 3777.872 T i_q + -377.918 T u_d + -271.678 T u_q + 4151.222 T sin(e) + 3995.178 T cos(e) + -24773.851 i_d^2 + 5685.662 i_d i_q + 3007.243 i_d u_d + -1444.026 i_d u_q + 22319.906 i_d sin(e) + -6488.450 i_d cos(e) + 967.350 i_q^2 + -1161.745 i_q u_d + -923.981 i_q u_q + -2594.374 i_q sin(e) + 9286.894 i_q cos(e) + 28.437 u_d^2 + 63.307 u_d u_q + -172.805 u_d sin(e) + -3538.893 u_d cos(e) + 40.678 u_q^2 + -641.127 u_q sin(e) + -1.175 u_q cos(e) + -647755211371.893 sin(e)^2 + 23429.648 sin(e) cos(e) + -647755210772.493 cos(e)^2 + 485836423.268 T^3 + -5444912.134 T^2 i_d + -474175792.722 T^2 i_q + 703986.805 T^2 u_d + 673281.458 T^2 u_q + -161416933.006 T^2 sin(e) + -96540528.380 T^2 cos(e) + 60175.876 T i_d^2 + 4767289.802 T i_d i_q + -26970.792 T i_d u_d + -525.054 T i_d u_q + 4477857.402 T i_d sin(e) + 1106021.557 T i_d cos(e) + 153044856.028 T i_q^2 + -450873.138 T i_q u_d + -374064.413 T i_q u_q + 95471251.068 T i_q sin(e) + 57340958.836 T i_q cos(e) + 184.216 T u_d^2 + -619.302 T u_d u_q + -124195.257 T u_d sin(e) + 67881.024 T u_d cos(e) + 116.409 T u_q^2 + 51327.086 T u_q sin(e) + -48254.673 T u_q cos(e) + -832928.993 T sin(e)^2 + -803575.264 T sin(e) cos(e) + 833332.808 T cos(e)^2 + -1170.583 i_d^3 + -38682.117 i_d^2 i_q + 288.828 i_d^2 u_d + -200.378 i_d^2 u_q + -27122.958 i_d^2 sin(e) + 1747.156 i_d^2 cos(e) + -933869.237 i_d i_q^2 + 9348.088 i_d i_q u_d + -655.546 i_d i_q u_q + -1318741.378 i_d i_q sin(e) + -330649.754 i_d i_q cos(e) + -2.045 i_d u_d^2 + 15.424 i_d u_d u_q + 2507.511 i_d u_d sin(e) + -952.109 i_d u_d cos(e) + -3.291 i_d u_q^2 + -607.389 i_d u_q sin(e) + 615.737 i_d u_q cos(e) + 15014.750 i_d sin(e)^2 + 1339.208 i_d sin(e) cos(e) + -10321.433 i_d cos(e)^2 + -16355602.399 i_q^3 + 71629.065 i_q^2 u_d + 51690.935 i_q^2 u_q + -14116402.965 i_q^2 sin(e) + -8512810.329 i_q^2 cos(e) + -54.482 i_q u_d^2 + 182.381 i_q u_d u_q + 36368.984 i_q u_d sin(e) + -20607.813 i_q u_d cos(e) + -25.034 i_q u_q^2 + -15150.433 i_q u_q sin(e) + 14370.706 i_q u_q cos(e) + 246982.575 i_q sin(e)^2 + 242185.181 i_q sin(e) cos(e) + -245551.166 i_q cos(e)^2 + -0.227 u_d^3 + -0.328 u_d^2 u_q + -2.189 u_d^2 sin(e) + -8.641 u_d^2 cos(e) + -0.662 u_d u_q^2 + -23.923 u_d u_q sin(e) + 19.080 u_d u_q cos(e) + -1409.766 u_d sin(e)^2 + -534.934 u_d sin(e) cos(e) + -589.386 u_d cos(e)^2 + 14.998 u_q^2 sin(e) + -3.030 u_q^2 cos(e) + -1231.223 u_q sin(e)^2 + -328.744 u_q sin(e) cos(e) + -1070.671 u_q cos(e)^2 + -3261.472 sin(e)^3 + 12861.558 sin(e)^2 cos(e) + -5813.597 sin(e) cos(e)^2 + 7143.379 cos(e)^3\n",
      "(i_d)' = 901719955347.158 1 + -2096.508 T + -127389.529 i_d + -3589.320 i_q + 1314.086 u_d + 2243.232 u_q + -32238.882 sin(e) + 77212.427 cos(e) + 179134.709 T^2 + -32762.649 T i_d + -28680.453 T i_q + 239.133 T u_d + -3.583 T u_q + -2216.230 T sin(e) + 22660.286 T cos(e) + -57335.636 i_d^2 + -105192.957 i_d i_q + -1410.779 i_d u_d + -5604.491 i_d u_q + -222109.566 i_d sin(e) + 491.446 i_d cos(e) + -5261.109 i_q^2 + 718.637 i_q u_d + -55.698 i_q u_q + -17796.676 i_q sin(e) + 65090.574 i_q cos(e) + 7.365 u_d^2 + -35.886 u_d u_q + -719.798 u_d sin(e) + 4146.465 u_d cos(e) + -76.770 u_q^2 + 2640.983 u_q sin(e) + -283.026 u_q cos(e) + -901720018191.758 sin(e)^2 + 67340.907 sin(e) cos(e) + -901719933540.934 cos(e)^2 + -2166148871.885 T^3 + 86558482.604 T^2 i_d + 1919801156.198 T^2 i_q + -4998902.295 T^2 u_d + 646461.823 T^2 u_q + -59789509.595 T^2 sin(e) + -39781224.223 T^2 cos(e) + -1474364.712 T i_d^2 + -50231754.667 T i_d i_q + 34966.217 T i_d u_d + -10099.821 T i_d u_q + 2477070.530 T i_d sin(e) + 3017343.359 T i_d cos(e) + -566726480.973 T i_q^2 + 2944292.190 T i_q u_d + -339914.585 T i_q u_q + 38372075.959 T i_q sin(e) + 23241772.666 T i_q cos(e) + -421.575 T u_d^2 + -4989.711 T u_d u_q + -236903.404 T u_d sin(e) + 266981.423 T u_d cos(e) + 21.285 T u_q^2 + 63296.304 T u_q sin(e) + -96397.656 T u_q cos(e) + 3390730.670 T sin(e)^2 + 1281224.408 T sin(e) cos(e) + -3391150.586 T cos(e)^2 + 8515.759 i_d^3 + 409427.913 i_d^2 i_q + 168.664 i_d^2 u_d + 171.961 i_d^2 u_q + -31260.756 i_d^2 sin(e) + -28842.805 i_d^2 cos(e) + 7260359.895 i_d i_q^2 + -10030.650 i_d i_q u_d + 1368.835 i_d i_q u_q + -831641.190 i_d i_q sin(e) + -894360.281 i_d i_q cos(e) + 29.539 i_d u_d^2 + 81.461 i_d u_d u_q + 2449.583 i_d u_d sin(e) + -3535.258 i_d u_d cos(e) + 23.793 i_d u_q^2 + -742.567 i_d u_q sin(e) + 146.872 i_d u_q cos(e) + -113282.914 i_d sin(e)^2 + -6215.704 i_d sin(e) cos(e) + -14347.847 i_d cos(e)^2 + 55723595.371 i_q^3 + -433385.411 i_q^2 u_d + 43905.892 i_q^2 u_q + -6122906.943 i_q^2 sin(e) + -3382525.289 i_q^2 cos(e) + 128.717 i_q u_d^2 + 1481.606 i_q u_d u_q + 70265.268 i_q u_d sin(e) + -79196.282 i_q u_d cos(e) + -4.011 i_q u_q^2 + -17951.306 i_q u_q sin(e) + 28117.596 i_q u_q cos(e) + -1018778.575 i_q sin(e)^2 + -357973.528 i_q sin(e) cos(e) + 1016043.917 i_q cos(e)^2 + -0.120 u_d^3 + 0.751 u_d^2 u_q + 36.837 u_d^2 sin(e) + -55.745 u_d^2 cos(e) + -48.107 u_d u_q sin(e) + 4.664 u_d u_q cos(e) + 546.353 u_d sin(e)^2 + 5961.543 u_d sin(e) cos(e) + 884.273 u_d cos(e)^2 + 0.740 u_q^3 + 21.786 u_q^2 sin(e) + -34.066 u_q^2 cos(e) + 1230.986 u_q sin(e)^2 + -2688.456 u_q sin(e) cos(e) + 1091.260 u_q cos(e)^2 + -30523.022 sin(e)^3 + 43811.360 sin(e)^2 cos(e) + -1767.642 sin(e) cos(e)^2 + 33436.685 cos(e)^3\n",
      "(i_q)' = 2090193436310.934 1 + 833.042 T + 23974.482 i_d + 4746.971 i_q + -7401.407 u_d + -7806.977 u_q + -28151.843 sin(e) + 61544.538 cos(e) + -71397.781 T^2 + 8069.012 T i_d + 15149.597 T i_q + -1262.334 T u_d + -912.928 T u_q + 14097.825 T sin(e) + 11928.427 T cos(e) + -79881.727 i_d^2 + 25240.354 i_d i_q + 10129.459 i_d u_d + -4735.172 i_d u_q + 89809.068 i_d sin(e) + -25441.829 i_d cos(e) + 3590.396 i_q^2 + -3870.989 i_q u_d + -3119.494 i_q u_q + -7626.611 i_q sin(e) + 26971.041 i_q cos(e) + 97.571 u_d^2 + 215.869 u_d u_q + -365.421 u_d sin(e) + -12233.455 u_d cos(e) + 136.520 u_q^2 + -2333.199 u_q sin(e) + 62.842 u_q cos(e) + -2090193447605.347 sin(e)^2 + 74064.050 sin(e) cos(e) + -2090193449756.001 cos(e)^2 + 1804313368.246 T^3 + -25596250.397 T^2 i_d + -1746682944.960 T^2 i_q + 2675939.771 T^2 u_d + 2138028.209 T^2 u_q + -540335339.362 T^2 sin(e) + -321677973.357 T^2 cos(e) + 329904.947 T i_d^2 + 20313919.789 T i_d i_q + -93948.822 T i_d u_d + 2105.103 T i_d u_q + 14909661.863 T i_d sin(e) + 3496258.288 T i_d cos(e) + 559873784.628 T i_q^2 + -1697067.039 T i_q u_d + -1184778.920 T i_q u_q + 319417100.879 T i_q sin(e) + 191137120.022 T i_q cos(e) + 592.987 T u_d^2 + -1876.326 T u_d u_q + -403561.189 T u_d sin(e) + 217266.792 T u_d cos(e) + 341.279 T u_q^2 + 169442.828 T u_q sin(e) + -160484.380 T u_q cos(e) + -3056814.781 T sin(e)^2 + -2679016.957 T sin(e) cos(e) + 3058143.332 T cos(e)^2 + -4638.818 i_d^3 + -166514.531 i_d^2 i_q + 975.574 i_d^2 u_d + -709.665 i_d^2 u_q + -88966.213 i_d^2 sin(e) + 7753.438 i_d^2 cos(e) + -3768421.996 i_d i_q^2 + 32336.803 i_d i_q u_d + -3319.159 i_d i_q u_q + -4384732.928 i_d i_q sin(e) + -1047188.936 i_d i_q cos(e) + -7.304 i_d u_d^2 + 47.900 i_d u_d u_q + 8316.535 i_d u_d sin(e) + -3127.896 i_d u_d cos(e) + -11.476 i_d u_q^2 + -2020.462 i_d u_q sin(e) + 2102.531 i_d u_q cos(e) + 58259.033 i_d sin(e)^2 + 2493.281 i_d sin(e) cos(e) + -33871.954 i_d cos(e)^2 + -59478522.066 i_q^3 + 267375.699 i_q^2 u_d + 163230.755 i_q^2 u_q + -47203965.491 i_q^2 sin(e) + -28387773.213 i_q^2 cos(e) + -175.106 i_q u_d^2 + 551.911 i_q u_d u_q + 118154.846 i_q u_d sin(e) + -66018.154 i_q u_d cos(e) + -69.337 i_q u_q^2 + -50050.976 i_q u_q sin(e) + 47822.415 i_q u_q cos(e) + 907069.810 i_q sin(e)^2 + 806218.013 i_q sin(e) cos(e) + -902278.264 i_q cos(e)^2 + -0.754 u_d^3 + -1.143 u_d^2 u_q + -8.375 u_d^2 sin(e) + -26.600 u_d^2 cos(e) + -2.242 u_d u_q^2 + -78.686 u_d u_q sin(e) + 65.707 u_d u_q cos(e) + -4703.371 u_d sin(e)^2 + -2143.537 u_d sin(e) cos(e) + -1904.351 u_d cos(e)^2 + 49.788 u_q^2 sin(e) + -8.856 u_q^2 cos(e) + -4182.700 u_q sin(e)^2 + -997.760 u_q sin(e) cos(e) + -3645.369 u_q cos(e)^2 + -9355.661 sin(e)^3 + 40187.250 sin(e)^2 cos(e) + -18770.527 sin(e) cos(e)^2 + 21368.087 cos(e)^3\n",
      "(u_d)' = 1772983302207.193 1 + 539477.777 T + 7290031.319 i_d + 1796050.667 i_q + -252141.159 u_d + -61928.903 u_q + 4570763.400 sin(e) + 1002877.326 cos(e) + -2334238.806 T^2 + 1911450.320 T i_d + 633118.677 T i_q + -38000.038 T u_d + -4814.689 T u_q + 1376764.804 T sin(e) + 864696.885 T cos(e) + -4742787.013 i_d^2 + 6597295.833 i_d i_q + 34827.580 i_d u_d + -10287.863 i_d u_q + 10845974.879 i_d sin(e) + 6262392.318 i_d cos(e) + 631677.633 i_q^2 + -106946.412 i_q u_d + -6622.441 i_q u_q + 2843173.174 i_q sin(e) + 814819.769 i_q cos(e) + -850.127 u_d^2 + 1957.831 u_d u_q + -266636.279 u_d sin(e) + 129008.444 u_d cos(e) + 232.971 u_q^2 + -123002.947 u_q sin(e) + 145172.106 u_q cos(e) + -1772976904726.926 sin(e)^2 + -326597.951 sin(e) cos(e) + -1772979374487.121 cos(e)^2 + 96738297907.399 T^3 + -901911810.967 T^2 i_d + -88844096703.102 T^2 i_q + 326481383.729 T^2 u_d + 31049378.035 T^2 u_q + -11743446361.236 T^2 sin(e) + -19041886306.724 T^2 cos(e) + -51654388.115 T i_d^2 + 675960038.069 T i_d i_q + -8528529.042 T i_d u_d + -1447702.855 T i_d u_q + 497329267.749 T i_d sin(e) + 573249878.912 T i_d cos(e) + 27132862338.519 T i_q^2 + -192854675.060 T i_q u_d + -17881539.489 T i_q u_q + 6803750964.962 T i_q sin(e) + 11168703082.896 T i_q cos(e) + 8878.519 T u_d^2 + 138738.194 T u_d u_q + 3438072.250 T u_d sin(e) + -1669643.703 T u_d cos(e) + -6406.531 T u_q^2 + 2908145.141 T u_q sin(e) + 3808097.243 T u_q cos(e) + -27523894.719 T sin(e)^2 + -371804137.917 T sin(e) cos(e) + 28030000.382 T cos(e)^2 + 504217.011 i_d^3 + 12780011.858 i_d^2 i_q + 23148.691 i_d^2 u_d + 16351.305 i_d^2 u_q + -4784962.546 i_d^2 sin(e) + -3700124.119 i_d^2 cos(e) + -119529153.183 i_d i_q^2 + 2547276.218 i_d i_q u_d + 421427.877 i_d i_q u_q + -142606494.632 i_d i_q sin(e) + -166909054.247 i_d i_q cos(e) + -191.234 i_d u_d^2 + -1433.027 i_d u_d u_q + -48643.113 i_d u_d sin(e) + 124584.460 i_d u_d cos(e) + 195.223 i_d u_q^2 + -44054.961 i_d u_q sin(e) + -56146.034 i_d u_q cos(e) + 4643627.395 i_d sin(e)^2 + 4562276.132 i_d sin(e) cos(e) + 2628004.135 i_d cos(e)^2 + -2755907870.466 i_q^3 + 28463796.006 i_q^2 u_d + 2573283.488 i_q^2 u_q + -984441910.139 i_q^2 sin(e) + -1637214600.196 i_q^2 cos(e) + -2845.343 i_q u_d^2 + -41194.308 i_q u_d u_q + -1046922.842 i_q u_d sin(e) + 460765.357 i_q u_d cos(e) + 1964.125 i_q u_q^2 + -880132.216 i_q u_q sin(e) + -1107484.768 i_q u_q cos(e) + 9388005.338 i_q sin(e)^2 + 110326009.697 i_q sin(e) cos(e) + -7600559.872 i_q cos(e)^2 + -13.507 u_d^3 + 10.310 u_d^2 u_q + 20.372 u_d^2 sin(e) + -1275.998 u_d^2 cos(e) + -5.898 u_d u_q^2 + 2343.078 u_d u_q sin(e) + -2800.578 u_d u_q cos(e) + -71317.703 u_d sin(e)^2 + 57280.886 u_d sin(e) cos(e) + -142123.199 u_d cos(e)^2 + 0.681 u_q^3 + 237.178 u_q^2 sin(e) + -568.560 u_q^2 cos(e) + -45340.557 u_q sin(e)^2 + 55754.174 u_q sin(e) cos(e) + 11588.607 u_q cos(e)^2 + 2571404.868 sin(e)^3 + 555061.454 sin(e)^2 cos(e) + 2000020.341 sin(e) cos(e)^2 + 449600.964 cos(e)^3\n",
      "(u_q)' = -1345212560189.082 1 + -1050505.285 T + 11944794.512 i_d + -3336942.652 i_q + -176734.506 u_d + 48569.521 u_q + 910447.424 sin(e) + -2489108.840 cos(e) + 7988234.443 T^2 + 2940353.019 T i_d + -1544298.608 T i_q + -2573.731 T u_d + -35481.368 T u_q + 1626455.020 T sin(e) + 60309.138 T cos(e) + -13243821.231 i_d^2 + 10026222.133 i_d i_q + -518956.242 i_d u_d + -104129.571 i_d u_q + 22132783.427 i_d sin(e) + 20677163.582 i_d cos(e) + -1394978.248 i_q^2 + 3854.388 i_q u_d + -125810.143 i_q u_q + 1606376.265 i_q sin(e) + -257173.206 i_q cos(e) + -6519.418 u_d^2 + 6458.182 u_d u_q + -220579.157 u_d sin(e) + 242506.394 u_d cos(e) + -8159.337 u_q^2 + -214042.129 u_q sin(e) + -20928.458 u_q cos(e) + 1345205430780.450 sin(e)^2 + -4610339.821 sin(e) cos(e) + 1345202558281.053 cos(e)^2 + -72654130914.110 T^3 + 4212138406.327 T^2 i_d + 61304075696.939 T^2 i_q + 129588789.535 T^2 u_d + -50844550.000 T^2 u_q + -22474036064.265 T^2 sin(e) + -10082787458.558 T^2 cos(e) + -53223169.642 T i_d^2 + -2262025578.519 T i_d i_q + -1974363.764 T i_d u_d + 804296.575 T i_d u_q + 1068712415.212 T i_d sin(e) + 151817313.725 T i_d cos(e) + -17246918233.195 T i_q^2 + -67915272.390 T i_q u_d + 31259267.370 T i_q u_q + 13038764210.171 T i_q sin(e) + 5679773296.686 T i_q cos(e) + 21499.254 T u_d^2 + 181743.864 T u_d u_q + 30314156.959 T u_d sin(e) + 7777755.819 T u_d cos(e) + -53203.025 T u_q^2 + 1103973.490 T u_q sin(e) + 8752731.719 T u_q cos(e) + -191763608.287 T sin(e)^2 + -1199116411.852 T sin(e) cos(e) + 190736942.708 T cos(e)^2 + 152389.603 i_d^3 + 10033510.673 i_d^2 i_q + -2805.215 i_d^2 u_d + -901.411 i_d^2 u_q + -11669574.316 i_d^2 sin(e) + -168789.017 i_d^2 cos(e) + 302706348.860 i_d i_q^2 + 358006.790 i_d i_q u_d + -270286.813 i_d i_q u_q + -307689874.206 i_d i_q sin(e) + -36471138.942 i_d i_q cos(e) + 334.212 i_d u_d^2 + -2329.966 i_d u_d u_q + -466593.686 i_d u_d sin(e) + -39168.184 i_d u_d cos(e) + 1094.467 i_d u_q^2 + -18754.237 i_d u_q sin(e) + -111648.424 i_d u_q cos(e) + 10536866.696 i_d sin(e)^2 + 16756154.864 i_d sin(e) cos(e) + 1420739.503 i_d cos(e)^2 + 1618142367.281 i_q^3 + 8758252.785 i_q^2 u_d + -4811045.131 i_q^2 u_q + -1889660558.173 i_q^2 sin(e) + -797066981.335 i_q^2 cos(e) + -6163.329 i_q u_d^2 + -52160.935 i_q u_d u_q + -8978733.780 i_q u_d sin(e) + -2252323.396 i_q u_d cos(e) + 16357.446 i_q u_q^2 + -372326.186 i_q u_q sin(e) + -2585851.679 i_q u_q cos(e) + 54965313.039 i_q sin(e)^2 + 355133993.724 i_q sin(e) cos(e) + -58296320.947 i_q cos(e)^2 + 5.884 u_d^3 + 97.930 u_d^2 u_q + 121.362 u_d^2 sin(e) + 1171.122 u_d^2 cos(e) + -0.370 u_d u_q^2 + 3698.682 u_d u_q sin(e) + 1398.745 u_d u_q cos(e) + -36359.193 u_d sin(e)^2 + 133745.740 u_d sin(e) cos(e) + -168535.441 u_d cos(e)^2 + 63.983 u_q^3 + 663.858 u_q^2 sin(e) + 398.239 u_q^2 cos(e) + -19330.467 u_q sin(e)^2 + -3627.765 u_q sin(e) cos(e) + 47520.595 u_q cos(e)^2 + 1531497.603 sin(e)^3 + -2557360.236 sin(e)^2 cos(e) + -621642.255 sin(e) cos(e)^2 + 66986.590 cos(e)^3\n",
      "(sin(e))' = -433696102.527 1 + 3676.125 T + -36.490 i_d + -1100.122 i_q + -24.654 sin(e) + 40.237 cos(e) + 1.877 T i_q + -2.659 T sin(e) + 1.120 T cos(e) + -5.949 i_d^2 + -70.238 i_d sin(e) + 60.075 i_d cos(e) + -2.908 i_q^2 + -8.246 i_q sin(e) + 1.864 i_q cos(e) + 433696075.247 sin(e)^2 + 22.020 sin(e) cos(e) + 433696061.797 cos(e)^2 + 323354.543 T^3 + -8684.951 T^2 i_d + -282442.304 T^2 i_q + -0.105 T^2 u_d + -3.645 T^2 u_q + 33946.332 T^2 sin(e) + -12946.015 T^2 cos(e) + 41.473 T i_d^2 + 5040.946 T i_d i_q + -0.285 T i_d u_d + 0.225 T i_d u_q + -269.775 T i_d sin(e) + 587.198 T i_d cos(e) + 82224.680 T i_q^2 + 0.031 T i_q u_d + 2.186 T i_q u_q + -19615.556 T i_q sin(e) + 6923.367 T i_q cos(e) + 0.351 T u_d cos(e) + 3092.956 T sin(e)^2 + -3289.651 T sin(e) cos(e) + 583.169 T cos(e)^2 + -12.612 i_d^2 i_q + -4.845 i_d^2 sin(e) + -3.057 i_d^2 cos(e) + -733.774 i_d i_q^2 + 0.086 i_d i_q u_d + -0.067 i_d i_q u_q + 56.079 i_d i_q sin(e) + -151.547 i_d i_q cos(e) + -33.844 i_d sin(e)^2 + 57.019 i_d sin(e) cos(e) + -2.646 i_d cos(e)^2 + -7978.186 i_q^3 + -0.328 i_q^2 u_q + 2830.568 i_q^2 sin(e) + -914.027 i_q^2 cos(e) + -0.106 i_q u_d cos(e) + -923.314 i_q sin(e)^2 + 977.990 i_q sin(e) cos(e) + -176.808 i_q cos(e)^2 + 1.152 sin(e)^3 + 18.423 sin(e)^2 cos(e) + -25.806 sin(e) cos(e)^2 + 21.814 cos(e)^3\n",
      "(cos(e))' = -16.076 1 + -0.914 T + 6.473 i_d + -3.107 i_q + -38.985 sin(e) + -1.264 cos(e) + -1.223 T i_d + -9.816 T i_q + -2.100 T sin(e) + -1.702 T cos(e) + 15.949 i_d^2 + -2.301 i_d i_q + 2.392 i_d sin(e) + -35.273 i_d cos(e) + 1.508 i_q^2 + -2.293 i_q sin(e) + -7.939 i_q cos(e) + 16.374 sin(e) cos(e) + -1.679 cos(e)^2 + -649005.085 T^3 + 29438.220 T^2 i_d + 588488.610 T^2 i_q + 10.751 T^2 u_d + -1.733 T^2 u_q + 28965.664 T^2 sin(e) + -8498.753 T^2 cos(e) + -455.325 T i_d^2 + -18004.078 T i_d i_q + -1290.199 T i_d sin(e) + 549.530 T i_d cos(e) + -177748.012 T i_q^2 + -6.323 T i_q u_d + 1.058 T i_q u_q + -16927.932 T i_q sin(e) + 5298.678 T i_q cos(e) + 647.235 T sin(e)^2 + 2644.926 T sin(e) cos(e) + -648.149 T cos(e)^2 + 2.446 i_d^3 + 144.578 i_d^2 i_q + 12.966 i_d^2 sin(e) + -6.633 i_d^2 cos(e) + 2748.143 i_d i_q^2 + 379.978 i_d i_q sin(e) + -175.649 i_d i_q cos(e) + -6.546 i_d sin(e)^2 + -38.124 i_d sin(e) cos(e) + 13.019 i_d cos(e)^2 + 17883.690 i_q^3 + 0.930 i_q^2 u_d + -0.161 i_q^2 u_q + 2472.133 i_q^2 sin(e) + -825.229 i_q^2 cos(e) + -193.744 i_q sin(e)^2 + -786.927 i_q sin(e) cos(e) + 190.637 i_q cos(e)^2 + -12.339 sin(e)^3 + 2.117 sin(e)^2 cos(e) + -26.646 sin(e) cos(e)^2 + -3.381 cos(e)^3\n"
     ]
    },
    {
     "data": {
      "text/plain": [
       "0.3140004801844823"
      ]
     },
     "execution_count": 17,
     "metadata": {},
     "output_type": "execute_result"
    }
   ],
   "source": [
    "# Instantiate model\n",
    "model = SINDy(\n",
    "              feature_library=PolynomialLibrary(degree=3),\n",
    "              # feature_library=FourierLibrary(n_frequencies=4),\n",
    "              # feature_library=WeakPDELibrary(),\n",
    "              differentiation_method=SmoothedFiniteDifference(),\n",
    "              # differentiation_method=SINDyDerivative(kind=\"kalman\", alpha = 0.05),\n",
    "              feature_names=['T','i_d','i_q','u_d','u_q','sin(e)','cos(e)']\n",
    "              # feature_names=['T','i_d','i_q','u_d','u_q']\n",
    "            )\n",
    "\n",
    "model.fit(X, t=t)\n",
    "model.print()\n",
    "model.coefficients()\n",
    "model.score(X, t=t[1]-t[0])"
   ]
  },
  {
   "cell_type": "code",
   "execution_count": 18,
   "metadata": {},
   "outputs": [],
   "source": [
    "tspan = [t[0], t[-1]]\n",
    "x0 = X[0]\n",
    "# x_SINDy = solve_ivp(model, tspan, x0, t_eval=t)"
   ]
  },
  {
   "cell_type": "code",
   "execution_count": 8,
   "metadata": {},
   "outputs": [],
   "source": [
    "# sim = model.simulate(x0, t=t)       # sim should match X if there was no error\n",
    "# print(sim)"
   ]
  },
  {
   "cell_type": "code",
   "execution_count": 19,
   "metadata": {},
   "outputs": [],
   "source": [
    "# TorqueSINDy = sim[:,0]"
   ]
  },
  {
   "cell_type": "code",
   "execution_count": null,
   "metadata": {},
   "outputs": [],
   "source": [
    "# # Define weak form ODE library\n",
    "# # defaults to derivative_order = 0 if not specified,\n",
    "# # and if spatial_grid is not specified, defaults to None,\n",
    "# # which allows weak form ODEs.\n",
    "# library_functions = [lambda x: x, lambda x: x * x, lambda x, y: x * y]\n",
    "# library_function_names = [lambda x: x, lambda x: x + x, lambda x, y: x + y]\n",
    "# ode_lib = ps.WeakPDELibrary(\n",
    "#     library_functions=library_functions,\n",
    "#     function_names=library_function_names,\n",
    "#     spatiotemporal_grid=t_train,\n",
    "#     is_uniform=True,\n",
    "#     K=100,\n",
    ")"
   ]
  },
  {
   "cell_type": "code",
   "execution_count": null,
   "metadata": {},
   "outputs": [],
   "source": [
    "# plt.figure(figsize=(12,5))\n",
    "# # plt.plot(t, T)\n",
    "# # plt.plot(t, X)\n",
    "# plt.plot(sim[:, 0], sim[:, 1])\n",
    "# plt.xlabel('t')\n",
    "# plt.ylabel('Torque')\n",
    "# plt.legend()\n",
    "# plt.show()"
   ]
  }
 ],
 "metadata": {
  "kernelspec": {
   "display_name": "base",
   "language": "python",
   "name": "python3"
  },
  "language_info": {
   "codemirror_mode": {
    "name": "ipython",
    "version": 3
   },
   "file_extension": ".py",
   "mimetype": "text/x-python",
   "name": "python",
   "nbconvert_exporter": "python",
   "pygments_lexer": "ipython3",
   "version": "3.9.12"
  },
  "orig_nbformat": 4
 },
 "nbformat": 4,
 "nbformat_minor": 2
}
