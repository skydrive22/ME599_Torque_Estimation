{
 "cells": [
  {
   "attachments": {},
   "cell_type": "markdown",
   "metadata": {},
   "source": [
    "First we must import numpy and SINDy"
   ]
  },
  {
   "cell_type": "code",
   "execution_count": 2,
   "metadata": {},
   "outputs": [
    {
     "data": {
      "text/html": [
       "<div>\n",
       "<style scoped>\n",
       "    .dataframe tbody tr th:only-of-type {\n",
       "        vertical-align: middle;\n",
       "    }\n",
       "\n",
       "    .dataframe tbody tr th {\n",
       "        vertical-align: top;\n",
       "    }\n",
       "\n",
       "    .dataframe thead th {\n",
       "        text-align: right;\n",
       "    }\n",
       "</style>\n",
       "<table border=\"1\" class=\"dataframe\">\n",
       "  <thead>\n",
       "    <tr style=\"text-align: right;\">\n",
       "      <th></th>\n",
       "      <th>timeInS</th>\n",
       "      <th>i_aInA</th>\n",
       "      <th>i_bInA</th>\n",
       "      <th>i_cInA</th>\n",
       "      <th>u_aInV</th>\n",
       "      <th>u_bInV</th>\n",
       "      <th>u_cInV</th>\n",
       "      <th>epsilon_elInRad</th>\n",
       "    </tr>\n",
       "  </thead>\n",
       "  <tbody>\n",
       "    <tr>\n",
       "      <th>0</th>\n",
       "      <td>0.000000</td>\n",
       "      <td>1.765625</td>\n",
       "      <td>3.453125</td>\n",
       "      <td>0.937500</td>\n",
       "      <td>-0.322917</td>\n",
       "      <td>-0.677083</td>\n",
       "      <td>1.000000</td>\n",
       "      <td>-2.403804</td>\n",
       "    </tr>\n",
       "    <tr>\n",
       "      <th>1</th>\n",
       "      <td>0.000001</td>\n",
       "      <td>1.578125</td>\n",
       "      <td>3.421875</td>\n",
       "      <td>0.859375</td>\n",
       "      <td>-0.177083</td>\n",
       "      <td>-0.750000</td>\n",
       "      <td>0.927083</td>\n",
       "      <td>-2.403765</td>\n",
       "    </tr>\n",
       "    <tr>\n",
       "      <th>2</th>\n",
       "      <td>0.000002</td>\n",
       "      <td>1.578125</td>\n",
       "      <td>3.562500</td>\n",
       "      <td>0.750000</td>\n",
       "      <td>-0.114583</td>\n",
       "      <td>-0.854167</td>\n",
       "      <td>0.968750</td>\n",
       "      <td>-2.403726</td>\n",
       "    </tr>\n",
       "  </tbody>\n",
       "</table>\n",
       "</div>"
      ],
      "text/plain": [
       "    timeInS    i_aInA    i_bInA    i_cInA    u_aInV    u_bInV    u_cInV  \\\n",
       "0  0.000000  1.765625  3.453125  0.937500 -0.322917 -0.677083  1.000000   \n",
       "1  0.000001  1.578125  3.421875  0.859375 -0.177083 -0.750000  0.927083   \n",
       "2  0.000002  1.578125  3.562500  0.750000 -0.114583 -0.854167  0.968750   \n",
       "\n",
       "   epsilon_elInRad  \n",
       "0        -2.403804  \n",
       "1        -2.403765  \n",
       "2        -2.403726  "
      ]
     },
     "execution_count": 2,
     "metadata": {},
     "output_type": "execute_result"
    }
   ],
   "source": [
    "import matplotlib.pyplot as plt\n",
    "import numpy as np\n",
    "import pandas as pd\n",
    "from pysindy import SINDy\n",
    "from pysindy.feature_library import *\n",
    "from pysindy.differentiation import *\n",
    "# from pysindy.optimizers import *\n",
    "from scipy.integrate import odeint, solve_ivp\n",
    "\n",
    "file = '../ReducedTorqueData.csv'\n",
    "pd.read_csv(file, nrows=3)"
   ]
  },
  {
   "cell_type": "code",
   "execution_count": 3,
   "metadata": {},
   "outputs": [],
   "source": [
    "data = np.loadtxt(file, delimiter=',', skiprows=1)    # Faster method\n",
    "\n",
    "# Define State Vectors\n",
    "t = data[:, 0]\n",
    "X = data[:, 1:]"
   ]
  },
  {
   "cell_type": "code",
   "execution_count": 4,
   "metadata": {},
   "outputs": [],
   "source": [
    "# Given Parameters\n",
    "n_me = 16.67    # Hz\n",
    "U_DC = 294      # Volts DC\n",
    "Rs = 18e-3      # Ohms\n",
    "Ld = 370e-6     # Henry\n",
    "Lq = 1200e-6    # Henry\n",
    "psi_p = 66e-3   # Vs\n",
    "i_dqmax = 240   # Amps\n",
    "p = 3           # pole pair number"
   ]
  },
  {
   "cell_type": "code",
   "execution_count": 5,
   "metadata": {},
   "outputs": [],
   "source": [
    "# Calculate Torque from variables\n",
    "i_abc = X[:, :3]\n",
    "u_abc = X[:, 3:6]\n",
    "e = X[:, 6]\n",
    "i_dq = np.zeros((len(X), 2))\n",
    "u_dq = np.zeros((len(X), 2))\n",
    "for i in range(len(data)):\n",
    "    trig = np.array([[np.cos(e[i]), -np.cos(e[i] + np.pi/3), -np.cos(e[i] - np.pi/3)],\n",
    "                    [-np.sin(e[i]), np.sin(e[i] + np.pi/3), np.sin(e[i] - np.pi/3)]])\n",
    "    i_dq[i] = np.matmul(trig, i_abc[i])\n",
    "    u_dq[i] = np.matmul(trig, u_abc[i])"
   ]
  },
  {
   "cell_type": "code",
   "execution_count": 6,
   "metadata": {},
   "outputs": [],
   "source": [
    "psi_d = Ld*i_dq[:, 0] + psi_p\n",
    "psi_q = Lq*i_dq[:, 1]\n",
    "T = 1.5*p*(psi_d*i_dq[:, 1] - psi_q*i_dq[:, 0])"
   ]
  },
  {
   "cell_type": "code",
   "execution_count": 12,
   "metadata": {},
   "outputs": [
    {
     "name": "stdout",
     "output_type": "stream",
     "text": [
      "(i_a)' = -61610.850 1 + 10175.706 i_a + 11319.365 i_b + 10194.894 i_c + -779338474.617 u_a + -779338478.393 u_b + -779338954.129 u_c + 477.196 E_el\n",
      "(i_b)' = 30419.605 1 + -5896.876 i_a + -4369.941 i_b + -4312.699 i_c + 1163986222.376 u_a + 1163986632.108 u_b + 1163986411.945 u_c + 1199.228 E_el\n",
      "(i_c)' = 35443.478 1 + -6509.856 i_a + -6206.872 i_b + -5162.023 i_c + 1217631282.888 u_a + 1217630890.294 u_b + 1217631679.847 u_c + 755.148 E_el\n",
      "(u_a)' = 23713.178 1 + -6622.137 i_a + 985.205 i_b + -2508.623 i_c + 2773380297.536 u_a + 2773381067.075 u_b + 2773379862.815 u_c + 5129.519 E_el\n",
      "(u_b)' = -19502.697 1 + -1019.142 i_a + 2595.554 i_b + 9705.235 i_c + 12832393.662 u_a + 12832909.161 u_b + 12833996.325 u_c + 4295.805 E_el\n",
      "(u_c)' = -4210.457 1 + 7641.276 i_a + -3580.764 i_b + -7196.616 i_c + -2786212685.314 u_a + -2786213970.352 u_b + -2786213853.255 u_c + -9425.325 E_el\n",
      "(E_el)' = 2.321 1 + -7.268 i_a + -13.085 i_b + 17.901 i_c + 5487137.722 u_a + 5487137.053 u_b + 5487138.449 u_c + 4.505 E_el\n",
      "[[-6.16108496e+04  1.01757061e+04  1.13193645e+04  1.01948939e+04\n",
      "  -7.79338475e+08 -7.79338478e+08 -7.79338954e+08  4.77196306e+02]\n",
      " [ 3.04196049e+04 -5.89687610e+03 -4.36994126e+03 -4.31269926e+03\n",
      "   1.16398622e+09  1.16398663e+09  1.16398641e+09  1.19922770e+03]\n",
      " [ 3.54434779e+04 -6.50985638e+03 -6.20687185e+03 -5.16202334e+03\n",
      "   1.21763128e+09  1.21763089e+09  1.21763168e+09  7.55147769e+02]\n",
      " [ 2.37131780e+04 -6.62213690e+03  9.85205071e+02 -2.50862340e+03\n",
      "   2.77338030e+09  2.77338107e+09  2.77337986e+09  5.12951919e+03]\n",
      " [-1.95026974e+04 -1.01914244e+03  2.59555448e+03  9.70523515e+03\n",
      "   1.28323937e+07  1.28329092e+07  1.28339963e+07  4.29580477e+03]\n",
      " [-4.21045716e+03  7.64127578e+03 -3.58076405e+03 -7.19661594e+03\n",
      "  -2.78621269e+09 -2.78621397e+09 -2.78621385e+09 -9.42532458e+03]\n",
      " [ 2.32137953e+00 -7.26844958e+00 -1.30853335e+01  1.79007307e+01\n",
      "   5.48713772e+06  5.48713705e+06  5.48713845e+06  4.50487352e+00]]\n"
     ]
    },
    {
     "data": {
      "text/plain": [
       "0.000775393900224884"
      ]
     },
     "execution_count": 12,
     "metadata": {},
     "output_type": "execute_result"
    }
   ],
   "source": [
    "# Instantiate model\n",
    "model = SINDy(\n",
    "              feature_library=PolynomialLibrary(degree=1),\n",
    "              # differentiation_method=SmoothedFiniteDifference(),\n",
    "              feature_names=['i_a','i_b','i_c','u_a','u_b','u_c','E_el']\n",
    "            )\n",
    "\n",
    "model.fit(X, t=t)\n",
    "model.print()\n",
    "print(model.coefficients())\n",
    "model.score(X, t=t[1]-t[0])"
   ]
  },
  {
   "cell_type": "code",
   "execution_count": 8,
   "metadata": {},
   "outputs": [],
   "source": [
    "tspan = [t[0], t[-1]]\n",
    "x0 = X[0]\n",
    "# x_SINDy = solve_ivp(, tspan, x0, t_eval=t)"
   ]
  },
  {
   "cell_type": "code",
   "execution_count": 16,
   "metadata": {},
   "outputs": [
    {
     "name": "stderr",
     "output_type": "stream",
     "text": [
      "capi_return is NULL\n",
      "Call-back cb_f_in_lsoda__user__routines failed.\n"
     ]
    },
    {
     "ename": "KeyboardInterrupt",
     "evalue": "",
     "output_type": "error",
     "traceback": [
      "\u001b[0;31m---------------------------------------------------------------------------\u001b[0m",
      "\u001b[0;31mKeyboardInterrupt\u001b[0m                         Traceback (most recent call last)",
      "Cell \u001b[0;32mIn[16], line 1\u001b[0m\n\u001b[0;32m----> 1\u001b[0m sim \u001b[39m=\u001b[39m model\u001b[39m.\u001b[39;49msimulate(x0, t\u001b[39m=\u001b[39;49mt)\n\u001b[1;32m      2\u001b[0m \u001b[39mprint\u001b[39m(sim)\n",
      "File \u001b[0;32m~/miniconda3/lib/python3.9/site-packages/pysindy/pysindy.py:896\u001b[0m, in \u001b[0;36mSINDy.simulate\u001b[0;34m(self, x0, t, u, integrator, stop_condition, interpolator, integrator_kws, interpolator_kws)\u001b[0m\n\u001b[1;32m    892\u001b[0m \u001b[39m# Need to hard-code below, because odeint and solve_ivp\u001b[39;00m\n\u001b[1;32m    893\u001b[0m \u001b[39m# have different syntax and integration options.\u001b[39;00m\n\u001b[1;32m    894\u001b[0m \u001b[39mif\u001b[39;00m integrator \u001b[39m==\u001b[39m \u001b[39m\"\u001b[39m\u001b[39msolve_ivp\u001b[39m\u001b[39m\"\u001b[39m:\n\u001b[1;32m    895\u001b[0m     \u001b[39mreturn\u001b[39;00m (\n\u001b[0;32m--> 896\u001b[0m         (solve_ivp(rhs, (t[\u001b[39m0\u001b[39;49m], t[\u001b[39m-\u001b[39;49m\u001b[39m1\u001b[39;49m]), x0, t_eval\u001b[39m=\u001b[39;49mt, \u001b[39m*\u001b[39;49m\u001b[39m*\u001b[39;49mintegrator_kws))\u001b[39m.\u001b[39my\n\u001b[1;32m    897\u001b[0m     )\u001b[39m.\u001b[39mT\n\u001b[1;32m    898\u001b[0m \u001b[39melif\u001b[39;00m integrator \u001b[39m==\u001b[39m \u001b[39m\"\u001b[39m\u001b[39modeint\u001b[39m\u001b[39m\"\u001b[39m:\n\u001b[1;32m    899\u001b[0m     \u001b[39mif\u001b[39;00m integrator_kws\u001b[39m.\u001b[39mget(\u001b[39m\"\u001b[39m\u001b[39mmethod\u001b[39m\u001b[39m\"\u001b[39m) \u001b[39m==\u001b[39m \u001b[39m\"\u001b[39m\u001b[39mLSODA\u001b[39m\u001b[39m\"\u001b[39m:\n",
      "File \u001b[0;32m~/miniconda3/lib/python3.9/site-packages/scipy/integrate/_ivp/ivp.py:589\u001b[0m, in \u001b[0;36msolve_ivp\u001b[0;34m(fun, t_span, y0, method, t_eval, dense_output, events, vectorized, args, **options)\u001b[0m\n\u001b[1;32m    587\u001b[0m status \u001b[39m=\u001b[39m \u001b[39mNone\u001b[39;00m\n\u001b[1;32m    588\u001b[0m \u001b[39mwhile\u001b[39;00m status \u001b[39mis\u001b[39;00m \u001b[39mNone\u001b[39;00m:\n\u001b[0;32m--> 589\u001b[0m     message \u001b[39m=\u001b[39m solver\u001b[39m.\u001b[39;49mstep()\n\u001b[1;32m    591\u001b[0m     \u001b[39mif\u001b[39;00m solver\u001b[39m.\u001b[39mstatus \u001b[39m==\u001b[39m \u001b[39m'\u001b[39m\u001b[39mfinished\u001b[39m\u001b[39m'\u001b[39m:\n\u001b[1;32m    592\u001b[0m         status \u001b[39m=\u001b[39m \u001b[39m0\u001b[39m\n",
      "File \u001b[0;32m~/miniconda3/lib/python3.9/site-packages/scipy/integrate/_ivp/base.py:181\u001b[0m, in \u001b[0;36mOdeSolver.step\u001b[0;34m(self)\u001b[0m\n\u001b[1;32m    179\u001b[0m \u001b[39melse\u001b[39;00m:\n\u001b[1;32m    180\u001b[0m     t \u001b[39m=\u001b[39m \u001b[39mself\u001b[39m\u001b[39m.\u001b[39mt\n\u001b[0;32m--> 181\u001b[0m     success, message \u001b[39m=\u001b[39m \u001b[39mself\u001b[39;49m\u001b[39m.\u001b[39;49m_step_impl()\n\u001b[1;32m    183\u001b[0m     \u001b[39mif\u001b[39;00m \u001b[39mnot\u001b[39;00m success:\n\u001b[1;32m    184\u001b[0m         \u001b[39mself\u001b[39m\u001b[39m.\u001b[39mstatus \u001b[39m=\u001b[39m \u001b[39m'\u001b[39m\u001b[39mfailed\u001b[39m\u001b[39m'\u001b[39m\n",
      "File \u001b[0;32m~/miniconda3/lib/python3.9/site-packages/scipy/integrate/_ivp/lsoda.py:152\u001b[0m, in \u001b[0;36mLSODA._step_impl\u001b[0;34m(self)\u001b[0m\n\u001b[1;32m    150\u001b[0m itask \u001b[39m=\u001b[39m integrator\u001b[39m.\u001b[39mcall_args[\u001b[39m2\u001b[39m]\n\u001b[1;32m    151\u001b[0m integrator\u001b[39m.\u001b[39mcall_args[\u001b[39m2\u001b[39m] \u001b[39m=\u001b[39m \u001b[39m5\u001b[39m\n\u001b[0;32m--> 152\u001b[0m solver\u001b[39m.\u001b[39m_y, solver\u001b[39m.\u001b[39mt \u001b[39m=\u001b[39m integrator\u001b[39m.\u001b[39;49mrun(\n\u001b[1;32m    153\u001b[0m     solver\u001b[39m.\u001b[39;49mf, solver\u001b[39m.\u001b[39;49mjac \u001b[39mor\u001b[39;49;00m (\u001b[39mlambda\u001b[39;49;00m: \u001b[39mNone\u001b[39;49;00m), solver\u001b[39m.\u001b[39;49m_y, solver\u001b[39m.\u001b[39;49mt,\n\u001b[1;32m    154\u001b[0m     \u001b[39mself\u001b[39;49m\u001b[39m.\u001b[39;49mt_bound, solver\u001b[39m.\u001b[39;49mf_params, solver\u001b[39m.\u001b[39;49mjac_params)\n\u001b[1;32m    155\u001b[0m integrator\u001b[39m.\u001b[39mcall_args[\u001b[39m2\u001b[39m] \u001b[39m=\u001b[39m itask\n\u001b[1;32m    157\u001b[0m \u001b[39mif\u001b[39;00m solver\u001b[39m.\u001b[39msuccessful():\n",
      "File \u001b[0;32m~/miniconda3/lib/python3.9/site-packages/scipy/integrate/_ode.py:1344\u001b[0m, in \u001b[0;36mlsoda.run\u001b[0;34m(self, f, jac, y0, t0, t1, f_params, jac_params)\u001b[0m\n\u001b[1;32m   1341\u001b[0m     \u001b[39mself\u001b[39m\u001b[39m.\u001b[39macquire_new_handle()\n\u001b[1;32m   1342\u001b[0m args \u001b[39m=\u001b[39m [f, y0, t0, t1] \u001b[39m+\u001b[39m \u001b[39mself\u001b[39m\u001b[39m.\u001b[39mcall_args[:\u001b[39m-\u001b[39m\u001b[39m1\u001b[39m] \u001b[39m+\u001b[39m \\\n\u001b[1;32m   1343\u001b[0m        [jac, \u001b[39mself\u001b[39m\u001b[39m.\u001b[39mcall_args[\u001b[39m-\u001b[39m\u001b[39m1\u001b[39m], f_params, \u001b[39m0\u001b[39m, jac_params]\n\u001b[0;32m-> 1344\u001b[0m y1, t, istate \u001b[39m=\u001b[39m \u001b[39mself\u001b[39;49m\u001b[39m.\u001b[39;49mrunner(\u001b[39m*\u001b[39;49margs)\n\u001b[1;32m   1345\u001b[0m \u001b[39mself\u001b[39m\u001b[39m.\u001b[39mistate \u001b[39m=\u001b[39m istate\n\u001b[1;32m   1346\u001b[0m \u001b[39mif\u001b[39;00m istate \u001b[39m<\u001b[39m \u001b[39m0\u001b[39m:\n",
      "File \u001b[0;32m~/miniconda3/lib/python3.9/site-packages/scipy/integrate/_ivp/base.py:138\u001b[0m, in \u001b[0;36mOdeSolver.__init__.<locals>.fun\u001b[0;34m(t, y)\u001b[0m\n\u001b[1;32m    136\u001b[0m \u001b[39mdef\u001b[39;00m \u001b[39mfun\u001b[39m(t, y):\n\u001b[1;32m    137\u001b[0m     \u001b[39mself\u001b[39m\u001b[39m.\u001b[39mnfev \u001b[39m+\u001b[39m\u001b[39m=\u001b[39m \u001b[39m1\u001b[39m\n\u001b[0;32m--> 138\u001b[0m     \u001b[39mreturn\u001b[39;00m \u001b[39mself\u001b[39;49m\u001b[39m.\u001b[39;49mfun_single(t, y)\n",
      "File \u001b[0;32m~/miniconda3/lib/python3.9/site-packages/scipy/integrate/_ivp/base.py:20\u001b[0m, in \u001b[0;36mcheck_arguments.<locals>.fun_wrapped\u001b[0;34m(t, y)\u001b[0m\n\u001b[1;32m     19\u001b[0m \u001b[39mdef\u001b[39;00m \u001b[39mfun_wrapped\u001b[39m(t, y):\n\u001b[0;32m---> 20\u001b[0m     \u001b[39mreturn\u001b[39;00m np\u001b[39m.\u001b[39masarray(fun(t, y), dtype\u001b[39m=\u001b[39mdtype)\n",
      "File \u001b[0;32m~/miniconda3/lib/python3.9/site-packages/pysindy/pysindy.py:860\u001b[0m, in \u001b[0;36mSINDy.simulate.<locals>.rhs\u001b[0;34m(t, x)\u001b[0m\n\u001b[1;32m    859\u001b[0m \u001b[39mdef\u001b[39;00m \u001b[39mrhs\u001b[39m(t, x):\n\u001b[0;32m--> 860\u001b[0m     \u001b[39mreturn\u001b[39;00m \u001b[39mself\u001b[39;49m\u001b[39m.\u001b[39;49mpredict(x[np\u001b[39m.\u001b[39;49mnewaxis, :])[\u001b[39m0\u001b[39m]\n",
      "File \u001b[0;32m~/miniconda3/lib/python3.9/site-packages/pysindy/pysindy.py:477\u001b[0m, in \u001b[0;36mSINDy.predict\u001b[0;34m(self, x, u, multiple_trajectories)\u001b[0m\n\u001b[1;32m    475\u001b[0m     u \u001b[39m=\u001b[39m validate_control_variables(x, u)\n\u001b[1;32m    476\u001b[0m     x \u001b[39m=\u001b[39m [np\u001b[39m.\u001b[39mconcatenate((xi, ui), axis\u001b[39m=\u001b[39mxi\u001b[39m.\u001b[39max_coord) \u001b[39mfor\u001b[39;00m xi, ui \u001b[39min\u001b[39;00m \u001b[39mzip\u001b[39m(x, u)]\n\u001b[0;32m--> 477\u001b[0m result \u001b[39m=\u001b[39m [\u001b[39mself\u001b[39m\u001b[39m.\u001b[39mmodel\u001b[39m.\u001b[39mpredict([xi]) \u001b[39mfor\u001b[39;00m xi \u001b[39min\u001b[39;00m x]\n\u001b[1;32m    478\u001b[0m result \u001b[39m=\u001b[39m [\n\u001b[1;32m    479\u001b[0m     \u001b[39mself\u001b[39m\u001b[39m.\u001b[39mfeature_library\u001b[39m.\u001b[39mreshape_samples_to_spatial_grid(pred)\n\u001b[1;32m    480\u001b[0m     \u001b[39mfor\u001b[39;00m pred \u001b[39min\u001b[39;00m result\n\u001b[1;32m    481\u001b[0m ]\n\u001b[1;32m    483\u001b[0m \u001b[39m# Kept for backwards compatibility.\u001b[39;00m\n",
      "File \u001b[0;32m~/miniconda3/lib/python3.9/site-packages/pysindy/pysindy.py:477\u001b[0m, in \u001b[0;36m<listcomp>\u001b[0;34m(.0)\u001b[0m\n\u001b[1;32m    475\u001b[0m     u \u001b[39m=\u001b[39m validate_control_variables(x, u)\n\u001b[1;32m    476\u001b[0m     x \u001b[39m=\u001b[39m [np\u001b[39m.\u001b[39mconcatenate((xi, ui), axis\u001b[39m=\u001b[39mxi\u001b[39m.\u001b[39max_coord) \u001b[39mfor\u001b[39;00m xi, ui \u001b[39min\u001b[39;00m \u001b[39mzip\u001b[39m(x, u)]\n\u001b[0;32m--> 477\u001b[0m result \u001b[39m=\u001b[39m [\u001b[39mself\u001b[39;49m\u001b[39m.\u001b[39;49mmodel\u001b[39m.\u001b[39;49mpredict([xi]) \u001b[39mfor\u001b[39;00m xi \u001b[39min\u001b[39;00m x]\n\u001b[1;32m    478\u001b[0m result \u001b[39m=\u001b[39m [\n\u001b[1;32m    479\u001b[0m     \u001b[39mself\u001b[39m\u001b[39m.\u001b[39mfeature_library\u001b[39m.\u001b[39mreshape_samples_to_spatial_grid(pred)\n\u001b[1;32m    480\u001b[0m     \u001b[39mfor\u001b[39;00m pred \u001b[39min\u001b[39;00m result\n\u001b[1;32m    481\u001b[0m ]\n\u001b[1;32m    483\u001b[0m \u001b[39m# Kept for backwards compatibility.\u001b[39;00m\n",
      "File \u001b[0;32m~/miniconda3/lib/python3.9/site-packages/sklearn/pipeline.py:457\u001b[0m, in \u001b[0;36mPipeline.predict\u001b[0;34m(self, X, **predict_params)\u001b[0m\n\u001b[1;32m    455\u001b[0m Xt \u001b[39m=\u001b[39m X\n\u001b[1;32m    456\u001b[0m \u001b[39mfor\u001b[39;00m _, name, transform \u001b[39min\u001b[39;00m \u001b[39mself\u001b[39m\u001b[39m.\u001b[39m_iter(with_final\u001b[39m=\u001b[39m\u001b[39mFalse\u001b[39;00m):\n\u001b[0;32m--> 457\u001b[0m     Xt \u001b[39m=\u001b[39m transform\u001b[39m.\u001b[39;49mtransform(Xt)\n\u001b[1;32m    458\u001b[0m \u001b[39mreturn\u001b[39;00m \u001b[39mself\u001b[39m\u001b[39m.\u001b[39msteps[\u001b[39m-\u001b[39m\u001b[39m1\u001b[39m][\u001b[39m1\u001b[39m]\u001b[39m.\u001b[39mpredict(Xt, \u001b[39m*\u001b[39m\u001b[39m*\u001b[39mpredict_params)\n",
      "File \u001b[0;32m~/miniconda3/lib/python3.9/site-packages/pysindy/feature_library/base.py:191\u001b[0m, in \u001b[0;36mx_sequence_or_item.<locals>.func\u001b[0;34m(self, x, *args, **kwargs)\u001b[0m\n\u001b[1;32m    189\u001b[0m \u001b[39mif\u001b[39;00m \u001b[39misinstance\u001b[39m(x, Sequence):\n\u001b[1;32m    190\u001b[0m     xs \u001b[39m=\u001b[39m [AxesArray(xi, comprehend_axes(xi)) \u001b[39mfor\u001b[39;00m xi \u001b[39min\u001b[39;00m x]\n\u001b[0;32m--> 191\u001b[0m     result \u001b[39m=\u001b[39m wrapped_func(\u001b[39mself\u001b[39;49m, xs, \u001b[39m*\u001b[39;49margs, \u001b[39m*\u001b[39;49m\u001b[39m*\u001b[39;49mkwargs)\n\u001b[1;32m    192\u001b[0m     \u001b[39mif\u001b[39;00m \u001b[39misinstance\u001b[39m(result, Sequence):  \u001b[39m# e.g. transform() returns x\u001b[39;00m\n\u001b[1;32m    193\u001b[0m         \u001b[39mreturn\u001b[39;00m [AxesArray(xp, comprehend_axes(xp)) \u001b[39mfor\u001b[39;00m xp \u001b[39min\u001b[39;00m result]\n",
      "File \u001b[0;32m~/miniconda3/lib/python3.9/site-packages/pysindy/feature_library/polynomial_library.py:227\u001b[0m, in \u001b[0;36mPolynomialLibrary.transform\u001b[0;34m(self, x_full)\u001b[0m\n\u001b[1;32m    200\u001b[0m \u001b[39m@x_sequence_or_item\u001b[39m\n\u001b[1;32m    201\u001b[0m \u001b[39mdef\u001b[39;00m \u001b[39mtransform\u001b[39m(\u001b[39mself\u001b[39m, x_full):\n\u001b[1;32m    202\u001b[0m     \u001b[39m\"\"\"Transform data to polynomial features.\u001b[39;00m\n\u001b[1;32m    203\u001b[0m \n\u001b[1;32m    204\u001b[0m \u001b[39m    Parameters\u001b[39;00m\n\u001b[0;32m   (...)\u001b[0m\n\u001b[1;32m    225\u001b[0m \u001b[39m        of polynomial features generated from the combination of inputs.\u001b[39;00m\n\u001b[1;32m    226\u001b[0m \u001b[39m    \"\"\"\u001b[39;00m\n\u001b[0;32m--> 227\u001b[0m     check_is_fitted(\u001b[39mself\u001b[39m)\n\u001b[1;32m    229\u001b[0m     xp_full \u001b[39m=\u001b[39m []\n\u001b[1;32m    230\u001b[0m     \u001b[39mfor\u001b[39;00m x \u001b[39min\u001b[39;00m x_full:\n",
      "\u001b[0;31mKeyboardInterrupt\u001b[0m: "
     ]
    }
   ],
   "source": [
    "sim = model.simulate(x0, t=t)       # sim should match X if there was no error\n",
    "print(sim)"
   ]
  },
  {
   "cell_type": "code",
   "execution_count": null,
   "metadata": {},
   "outputs": [],
   "source": [
    "TorqueSINDy = pass"
   ]
  },
  {
   "cell_type": "code",
   "execution_count": 15,
   "metadata": {},
   "outputs": [
    {
     "name": "stderr",
     "output_type": "stream",
     "text": [
      "capi_return is NULL\n",
      "Call-back cb_f_in_lsoda__user__routines failed.\n"
     ]
    },
    {
     "ename": "ValueError",
     "evalue": "x shape does not match training shape",
     "output_type": "error",
     "traceback": [
      "\u001b[0;31m---------------------------------------------------------------------------\u001b[0m",
      "\u001b[0;31mValueError\u001b[0m                                Traceback (most recent call last)",
      "Cell \u001b[0;32mIn[15], line 2\u001b[0m\n\u001b[1;32m      1\u001b[0m \u001b[39m# x0, y0, t_test, x_test, y_test = gen_data2()\u001b[39;00m\n\u001b[0;32m----> 2\u001b[0m sim \u001b[39m=\u001b[39m model\u001b[39m.\u001b[39;49msimulate(x0[:\u001b[39m1\u001b[39;49m], t\u001b[39m=\u001b[39;49mt)\n\u001b[1;32m      3\u001b[0m \u001b[39mprint\u001b[39m(sim)\n\u001b[1;32m      5\u001b[0m plt\u001b[39m.\u001b[39mfigure(figsize\u001b[39m=\u001b[39m(\u001b[39m12\u001b[39m,\u001b[39m5\u001b[39m))\n",
      "File \u001b[0;32m~/miniconda3/lib/python3.9/site-packages/pysindy/pysindy.py:896\u001b[0m, in \u001b[0;36mSINDy.simulate\u001b[0;34m(self, x0, t, u, integrator, stop_condition, interpolator, integrator_kws, interpolator_kws)\u001b[0m\n\u001b[1;32m    892\u001b[0m \u001b[39m# Need to hard-code below, because odeint and solve_ivp\u001b[39;00m\n\u001b[1;32m    893\u001b[0m \u001b[39m# have different syntax and integration options.\u001b[39;00m\n\u001b[1;32m    894\u001b[0m \u001b[39mif\u001b[39;00m integrator \u001b[39m==\u001b[39m \u001b[39m\"\u001b[39m\u001b[39msolve_ivp\u001b[39m\u001b[39m\"\u001b[39m:\n\u001b[1;32m    895\u001b[0m     \u001b[39mreturn\u001b[39;00m (\n\u001b[0;32m--> 896\u001b[0m         (solve_ivp(rhs, (t[\u001b[39m0\u001b[39;49m], t[\u001b[39m-\u001b[39;49m\u001b[39m1\u001b[39;49m]), x0, t_eval\u001b[39m=\u001b[39;49mt, \u001b[39m*\u001b[39;49m\u001b[39m*\u001b[39;49mintegrator_kws))\u001b[39m.\u001b[39my\n\u001b[1;32m    897\u001b[0m     )\u001b[39m.\u001b[39mT\n\u001b[1;32m    898\u001b[0m \u001b[39melif\u001b[39;00m integrator \u001b[39m==\u001b[39m \u001b[39m\"\u001b[39m\u001b[39modeint\u001b[39m\u001b[39m\"\u001b[39m:\n\u001b[1;32m    899\u001b[0m     \u001b[39mif\u001b[39;00m integrator_kws\u001b[39m.\u001b[39mget(\u001b[39m\"\u001b[39m\u001b[39mmethod\u001b[39m\u001b[39m\"\u001b[39m) \u001b[39m==\u001b[39m \u001b[39m\"\u001b[39m\u001b[39mLSODA\u001b[39m\u001b[39m\"\u001b[39m:\n",
      "File \u001b[0;32m~/miniconda3/lib/python3.9/site-packages/scipy/integrate/_ivp/ivp.py:589\u001b[0m, in \u001b[0;36msolve_ivp\u001b[0;34m(fun, t_span, y0, method, t_eval, dense_output, events, vectorized, args, **options)\u001b[0m\n\u001b[1;32m    587\u001b[0m status \u001b[39m=\u001b[39m \u001b[39mNone\u001b[39;00m\n\u001b[1;32m    588\u001b[0m \u001b[39mwhile\u001b[39;00m status \u001b[39mis\u001b[39;00m \u001b[39mNone\u001b[39;00m:\n\u001b[0;32m--> 589\u001b[0m     message \u001b[39m=\u001b[39m solver\u001b[39m.\u001b[39;49mstep()\n\u001b[1;32m    591\u001b[0m     \u001b[39mif\u001b[39;00m solver\u001b[39m.\u001b[39mstatus \u001b[39m==\u001b[39m \u001b[39m'\u001b[39m\u001b[39mfinished\u001b[39m\u001b[39m'\u001b[39m:\n\u001b[1;32m    592\u001b[0m         status \u001b[39m=\u001b[39m \u001b[39m0\u001b[39m\n",
      "File \u001b[0;32m~/miniconda3/lib/python3.9/site-packages/scipy/integrate/_ivp/base.py:181\u001b[0m, in \u001b[0;36mOdeSolver.step\u001b[0;34m(self)\u001b[0m\n\u001b[1;32m    179\u001b[0m \u001b[39melse\u001b[39;00m:\n\u001b[1;32m    180\u001b[0m     t \u001b[39m=\u001b[39m \u001b[39mself\u001b[39m\u001b[39m.\u001b[39mt\n\u001b[0;32m--> 181\u001b[0m     success, message \u001b[39m=\u001b[39m \u001b[39mself\u001b[39;49m\u001b[39m.\u001b[39;49m_step_impl()\n\u001b[1;32m    183\u001b[0m     \u001b[39mif\u001b[39;00m \u001b[39mnot\u001b[39;00m success:\n\u001b[1;32m    184\u001b[0m         \u001b[39mself\u001b[39m\u001b[39m.\u001b[39mstatus \u001b[39m=\u001b[39m \u001b[39m'\u001b[39m\u001b[39mfailed\u001b[39m\u001b[39m'\u001b[39m\n",
      "File \u001b[0;32m~/miniconda3/lib/python3.9/site-packages/scipy/integrate/_ivp/lsoda.py:152\u001b[0m, in \u001b[0;36mLSODA._step_impl\u001b[0;34m(self)\u001b[0m\n\u001b[1;32m    150\u001b[0m itask \u001b[39m=\u001b[39m integrator\u001b[39m.\u001b[39mcall_args[\u001b[39m2\u001b[39m]\n\u001b[1;32m    151\u001b[0m integrator\u001b[39m.\u001b[39mcall_args[\u001b[39m2\u001b[39m] \u001b[39m=\u001b[39m \u001b[39m5\u001b[39m\n\u001b[0;32m--> 152\u001b[0m solver\u001b[39m.\u001b[39m_y, solver\u001b[39m.\u001b[39mt \u001b[39m=\u001b[39m integrator\u001b[39m.\u001b[39;49mrun(\n\u001b[1;32m    153\u001b[0m     solver\u001b[39m.\u001b[39;49mf, solver\u001b[39m.\u001b[39;49mjac \u001b[39mor\u001b[39;49;00m (\u001b[39mlambda\u001b[39;49;00m: \u001b[39mNone\u001b[39;49;00m), solver\u001b[39m.\u001b[39;49m_y, solver\u001b[39m.\u001b[39;49mt,\n\u001b[1;32m    154\u001b[0m     \u001b[39mself\u001b[39;49m\u001b[39m.\u001b[39;49mt_bound, solver\u001b[39m.\u001b[39;49mf_params, solver\u001b[39m.\u001b[39;49mjac_params)\n\u001b[1;32m    155\u001b[0m integrator\u001b[39m.\u001b[39mcall_args[\u001b[39m2\u001b[39m] \u001b[39m=\u001b[39m itask\n\u001b[1;32m    157\u001b[0m \u001b[39mif\u001b[39;00m solver\u001b[39m.\u001b[39msuccessful():\n",
      "File \u001b[0;32m~/miniconda3/lib/python3.9/site-packages/scipy/integrate/_ode.py:1344\u001b[0m, in \u001b[0;36mlsoda.run\u001b[0;34m(self, f, jac, y0, t0, t1, f_params, jac_params)\u001b[0m\n\u001b[1;32m   1341\u001b[0m     \u001b[39mself\u001b[39m\u001b[39m.\u001b[39macquire_new_handle()\n\u001b[1;32m   1342\u001b[0m args \u001b[39m=\u001b[39m [f, y0, t0, t1] \u001b[39m+\u001b[39m \u001b[39mself\u001b[39m\u001b[39m.\u001b[39mcall_args[:\u001b[39m-\u001b[39m\u001b[39m1\u001b[39m] \u001b[39m+\u001b[39m \\\n\u001b[1;32m   1343\u001b[0m        [jac, \u001b[39mself\u001b[39m\u001b[39m.\u001b[39mcall_args[\u001b[39m-\u001b[39m\u001b[39m1\u001b[39m], f_params, \u001b[39m0\u001b[39m, jac_params]\n\u001b[0;32m-> 1344\u001b[0m y1, t, istate \u001b[39m=\u001b[39m \u001b[39mself\u001b[39;49m\u001b[39m.\u001b[39;49mrunner(\u001b[39m*\u001b[39;49margs)\n\u001b[1;32m   1345\u001b[0m \u001b[39mself\u001b[39m\u001b[39m.\u001b[39mistate \u001b[39m=\u001b[39m istate\n\u001b[1;32m   1346\u001b[0m \u001b[39mif\u001b[39;00m istate \u001b[39m<\u001b[39m \u001b[39m0\u001b[39m:\n",
      "File \u001b[0;32m~/miniconda3/lib/python3.9/site-packages/scipy/integrate/_ivp/base.py:138\u001b[0m, in \u001b[0;36mOdeSolver.__init__.<locals>.fun\u001b[0;34m(t, y)\u001b[0m\n\u001b[1;32m    136\u001b[0m \u001b[39mdef\u001b[39;00m \u001b[39mfun\u001b[39m(t, y):\n\u001b[1;32m    137\u001b[0m     \u001b[39mself\u001b[39m\u001b[39m.\u001b[39mnfev \u001b[39m+\u001b[39m\u001b[39m=\u001b[39m \u001b[39m1\u001b[39m\n\u001b[0;32m--> 138\u001b[0m     \u001b[39mreturn\u001b[39;00m \u001b[39mself\u001b[39;49m\u001b[39m.\u001b[39;49mfun_single(t, y)\n",
      "File \u001b[0;32m~/miniconda3/lib/python3.9/site-packages/scipy/integrate/_ivp/base.py:20\u001b[0m, in \u001b[0;36mcheck_arguments.<locals>.fun_wrapped\u001b[0;34m(t, y)\u001b[0m\n\u001b[1;32m     19\u001b[0m \u001b[39mdef\u001b[39;00m \u001b[39mfun_wrapped\u001b[39m(t, y):\n\u001b[0;32m---> 20\u001b[0m     \u001b[39mreturn\u001b[39;00m np\u001b[39m.\u001b[39masarray(fun(t, y), dtype\u001b[39m=\u001b[39mdtype)\n",
      "File \u001b[0;32m~/miniconda3/lib/python3.9/site-packages/pysindy/pysindy.py:860\u001b[0m, in \u001b[0;36mSINDy.simulate.<locals>.rhs\u001b[0;34m(t, x)\u001b[0m\n\u001b[1;32m    859\u001b[0m \u001b[39mdef\u001b[39;00m \u001b[39mrhs\u001b[39m(t, x):\n\u001b[0;32m--> 860\u001b[0m     \u001b[39mreturn\u001b[39;00m \u001b[39mself\u001b[39;49m\u001b[39m.\u001b[39;49mpredict(x[np\u001b[39m.\u001b[39;49mnewaxis, :])[\u001b[39m0\u001b[39m]\n",
      "File \u001b[0;32m~/miniconda3/lib/python3.9/site-packages/pysindy/pysindy.py:477\u001b[0m, in \u001b[0;36mSINDy.predict\u001b[0;34m(self, x, u, multiple_trajectories)\u001b[0m\n\u001b[1;32m    475\u001b[0m     u \u001b[39m=\u001b[39m validate_control_variables(x, u)\n\u001b[1;32m    476\u001b[0m     x \u001b[39m=\u001b[39m [np\u001b[39m.\u001b[39mconcatenate((xi, ui), axis\u001b[39m=\u001b[39mxi\u001b[39m.\u001b[39max_coord) \u001b[39mfor\u001b[39;00m xi, ui \u001b[39min\u001b[39;00m \u001b[39mzip\u001b[39m(x, u)]\n\u001b[0;32m--> 477\u001b[0m result \u001b[39m=\u001b[39m [\u001b[39mself\u001b[39m\u001b[39m.\u001b[39mmodel\u001b[39m.\u001b[39mpredict([xi]) \u001b[39mfor\u001b[39;00m xi \u001b[39min\u001b[39;00m x]\n\u001b[1;32m    478\u001b[0m result \u001b[39m=\u001b[39m [\n\u001b[1;32m    479\u001b[0m     \u001b[39mself\u001b[39m\u001b[39m.\u001b[39mfeature_library\u001b[39m.\u001b[39mreshape_samples_to_spatial_grid(pred)\n\u001b[1;32m    480\u001b[0m     \u001b[39mfor\u001b[39;00m pred \u001b[39min\u001b[39;00m result\n\u001b[1;32m    481\u001b[0m ]\n\u001b[1;32m    483\u001b[0m \u001b[39m# Kept for backwards compatibility.\u001b[39;00m\n",
      "File \u001b[0;32m~/miniconda3/lib/python3.9/site-packages/pysindy/pysindy.py:477\u001b[0m, in \u001b[0;36m<listcomp>\u001b[0;34m(.0)\u001b[0m\n\u001b[1;32m    475\u001b[0m     u \u001b[39m=\u001b[39m validate_control_variables(x, u)\n\u001b[1;32m    476\u001b[0m     x \u001b[39m=\u001b[39m [np\u001b[39m.\u001b[39mconcatenate((xi, ui), axis\u001b[39m=\u001b[39mxi\u001b[39m.\u001b[39max_coord) \u001b[39mfor\u001b[39;00m xi, ui \u001b[39min\u001b[39;00m \u001b[39mzip\u001b[39m(x, u)]\n\u001b[0;32m--> 477\u001b[0m result \u001b[39m=\u001b[39m [\u001b[39mself\u001b[39;49m\u001b[39m.\u001b[39;49mmodel\u001b[39m.\u001b[39;49mpredict([xi]) \u001b[39mfor\u001b[39;00m xi \u001b[39min\u001b[39;00m x]\n\u001b[1;32m    478\u001b[0m result \u001b[39m=\u001b[39m [\n\u001b[1;32m    479\u001b[0m     \u001b[39mself\u001b[39m\u001b[39m.\u001b[39mfeature_library\u001b[39m.\u001b[39mreshape_samples_to_spatial_grid(pred)\n\u001b[1;32m    480\u001b[0m     \u001b[39mfor\u001b[39;00m pred \u001b[39min\u001b[39;00m result\n\u001b[1;32m    481\u001b[0m ]\n\u001b[1;32m    483\u001b[0m \u001b[39m# Kept for backwards compatibility.\u001b[39;00m\n",
      "File \u001b[0;32m~/miniconda3/lib/python3.9/site-packages/sklearn/pipeline.py:457\u001b[0m, in \u001b[0;36mPipeline.predict\u001b[0;34m(self, X, **predict_params)\u001b[0m\n\u001b[1;32m    455\u001b[0m Xt \u001b[39m=\u001b[39m X\n\u001b[1;32m    456\u001b[0m \u001b[39mfor\u001b[39;00m _, name, transform \u001b[39min\u001b[39;00m \u001b[39mself\u001b[39m\u001b[39m.\u001b[39m_iter(with_final\u001b[39m=\u001b[39m\u001b[39mFalse\u001b[39;00m):\n\u001b[0;32m--> 457\u001b[0m     Xt \u001b[39m=\u001b[39m transform\u001b[39m.\u001b[39;49mtransform(Xt)\n\u001b[1;32m    458\u001b[0m \u001b[39mreturn\u001b[39;00m \u001b[39mself\u001b[39m\u001b[39m.\u001b[39msteps[\u001b[39m-\u001b[39m\u001b[39m1\u001b[39m][\u001b[39m1\u001b[39m]\u001b[39m.\u001b[39mpredict(Xt, \u001b[39m*\u001b[39m\u001b[39m*\u001b[39mpredict_params)\n",
      "File \u001b[0;32m~/miniconda3/lib/python3.9/site-packages/pysindy/feature_library/base.py:191\u001b[0m, in \u001b[0;36mx_sequence_or_item.<locals>.func\u001b[0;34m(self, x, *args, **kwargs)\u001b[0m\n\u001b[1;32m    189\u001b[0m \u001b[39mif\u001b[39;00m \u001b[39misinstance\u001b[39m(x, Sequence):\n\u001b[1;32m    190\u001b[0m     xs \u001b[39m=\u001b[39m [AxesArray(xi, comprehend_axes(xi)) \u001b[39mfor\u001b[39;00m xi \u001b[39min\u001b[39;00m x]\n\u001b[0;32m--> 191\u001b[0m     result \u001b[39m=\u001b[39m wrapped_func(\u001b[39mself\u001b[39;49m, xs, \u001b[39m*\u001b[39;49margs, \u001b[39m*\u001b[39;49m\u001b[39m*\u001b[39;49mkwargs)\n\u001b[1;32m    192\u001b[0m     \u001b[39mif\u001b[39;00m \u001b[39misinstance\u001b[39m(result, Sequence):  \u001b[39m# e.g. transform() returns x\u001b[39;00m\n\u001b[1;32m    193\u001b[0m         \u001b[39mreturn\u001b[39;00m [AxesArray(xp, comprehend_axes(xp)) \u001b[39mfor\u001b[39;00m xp \u001b[39min\u001b[39;00m result]\n",
      "File \u001b[0;32m~/miniconda3/lib/python3.9/site-packages/pysindy/feature_library/polynomial_library.py:241\u001b[0m, in \u001b[0;36mPolynomialLibrary.transform\u001b[0;34m(self, x_full)\u001b[0m\n\u001b[1;32m    239\u001b[0m \u001b[39mif\u001b[39;00m \u001b[39mfloat\u001b[39m(__version__[:\u001b[39m3\u001b[39m]) \u001b[39m>\u001b[39m\u001b[39m=\u001b[39m \u001b[39m1.0\u001b[39m:\n\u001b[1;32m    240\u001b[0m     \u001b[39mif\u001b[39;00m n_features \u001b[39m!=\u001b[39m \u001b[39mself\u001b[39m\u001b[39m.\u001b[39mn_features_in_:\n\u001b[0;32m--> 241\u001b[0m         \u001b[39mraise\u001b[39;00m \u001b[39mValueError\u001b[39;00m(\u001b[39m\"\u001b[39m\u001b[39mx shape does not match training shape\u001b[39m\u001b[39m\"\u001b[39m)\n\u001b[1;32m    242\u001b[0m \u001b[39melse\u001b[39;00m:\n\u001b[1;32m    243\u001b[0m     \u001b[39mif\u001b[39;00m n_features \u001b[39m!=\u001b[39m \u001b[39mself\u001b[39m\u001b[39m.\u001b[39mn_input_features_:\n",
      "\u001b[0;31mValueError\u001b[0m: x shape does not match training shape"
     ]
    }
   ],
   "source": [
    "# plt.figure(figsize=(12,5))\n",
    "# # plt.plot(t, T)\n",
    "# # plt.plot(t, X)\n",
    "# plt.plot(sim[:, 0], sim[:, 1])\n",
    "# plt.xlabel('t')\n",
    "# plt.ylabel('Torque')\n",
    "# plt.legend()\n",
    "# plt.show()"
   ]
  }
 ],
 "metadata": {
  "kernelspec": {
   "display_name": "base",
   "language": "python",
   "name": "python3"
  },
  "language_info": {
   "codemirror_mode": {
    "name": "ipython",
    "version": 3
   },
   "file_extension": ".py",
   "mimetype": "text/x-python",
   "name": "python",
   "nbconvert_exporter": "python",
   "pygments_lexer": "ipython3",
   "version": "3.9.12"
  },
  "orig_nbformat": 4
 },
 "nbformat": 4,
 "nbformat_minor": 2
}
