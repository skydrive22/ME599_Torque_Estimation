{
 "cells": [
  {
   "attachments": {},
   "cell_type": "markdown",
   "metadata": {},
   "source": [
    "First we must import numpy and SINDy"
   ]
  },
  {
   "cell_type": "code",
   "execution_count": 1,
   "metadata": {},
   "outputs": [],
   "source": [
    "\n",
    "import numpy as np\n",
    "from pysindy import SINDy\n",
    "\n",
    "\n",
    "def main():\n",
    "    # Define your data\n",
    "    t = np.linspace(0, 10, 100)\n",
    "    x = np.sin(t)\n",
    "    y = np.cos(t)\n",
    "\n",
    "    # Fit the model\n",
    "    model = SINDy()\n",
    "    model.fit([x, y], t=t)\n",
    "\n",
    "    # Print the model coefficients\n",
    "    print(model.coefficients())"
   ]
  }
 ],
 "metadata": {
  "kernelspec": {
   "display_name": "base",
   "language": "python",
   "name": "python3"
  },
  "language_info": {
   "codemirror_mode": {
    "name": "ipython",
    "version": 3
   },
   "file_extension": ".py",
   "mimetype": "text/x-python",
   "name": "python",
   "nbconvert_exporter": "python",
   "pygments_lexer": "ipython3",
   "version": "3.10.9"
  },
  "orig_nbformat": 4
 },
 "nbformat": 4,
 "nbformat_minor": 2
}
